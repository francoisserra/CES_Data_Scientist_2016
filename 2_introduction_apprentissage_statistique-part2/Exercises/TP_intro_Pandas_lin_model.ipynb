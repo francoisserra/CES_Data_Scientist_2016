{
 "cells": [
  {
   "cell_type": "markdown",
   "metadata": {},
   "source": [
    "# CES\n"
   ]
  },
  {
   "cell_type": "markdown",
   "metadata": {},
   "source": [
    "## Statistiques régression linéaire avec Python\n",
    "\n",
    "Auteurs : Joseph Salmon, Alexandre Gramfort\n",
    "\n",
    "Ce notebook contient des éléments d'introduction au langage Python avec Numpy qui est un outil de base pour le machine learning en Python. Nous allons illustrer tous les concepts sur des images.\n",
    "\n",
    "Ressources externes: introductions générales (Python, Scipy, Numpy, Matplotlib, Pandas etc.)\n",
    "\n",
    "* [http://scipy-lectures.github.io](http://scipy-lectures.github.io)\n",
    "\n",
    "* [http://perso.telecom-paristech.fr/~gramfort/cours_python/1-Intro-Python.html](http://perso.telecom-paristech.fr/~gramfort/cours_python/1-Intro-Python.html)\n",
    "\n",
    "* [http://perso.telecom-paristech.fr/~gramfort/cours_python/2-Numpy.html](http://perso.telecom-paristech.fr/~gramfort/cours_python/2-Numpy.html)\n",
    "\n",
    "* [http://perso.telecom-paristech.fr/~gramfort/cours_python/3-Scipy.html](http://perso.telecom-paristech.fr/~gramfort/cours_python/3-Scipy.html)\n",
    "\n",
    "* [http://jrjohansson.github.io/](http://jrjohansson.github.io/)\n",
    "\n",
    "* [http://www.loria.fr/~rougier/teaching/matplotlib/matplotlib.html](http://www.loria.fr/~rougier/teaching/matplotlib/matplotlib.html) : introduction à Matplotlib\n",
    "\n",
    "* [https://www.youtube.com/watch?v=TSsSWuhBpmY](https://www.youtube.com/watch?v=TSsSWuhBpmY) : tutoriel en anglais sur Pandas\n",
    "\n",
    "Ressources externes diverses:\n",
    "\n",
    "* [http://freakonometrics.hypotheses.org/category/statistics](http://freakonometrics.hypotheses.org/category/statistics): Blog sur la statistique / science des données\n",
    "\n",
    "* [http://perso.univ-rennes1.fr/bernard.delyon/regression.pdf](http://perso.univ-rennes1.fr/bernard.delyon/regression.pdf): cours théorique sur la régression lineaire\n",
    "\n",
    "* [http://bokeh.pydata.org/en/latest/docs/gallery/color_scatter.html](http://bokeh.pydata.org/en/latest/docs/gallery/color_scatter.html): affichage graphique interactif"
   ]
  },
  {
   "cell_type": "markdown",
   "metadata": {},
   "source": [
    "## Imports et intialisation"
   ]
  },
  {
   "cell_type": "code",
   "execution_count": 86,
   "metadata": {
    "collapsed": true
   },
   "outputs": [],
   "source": [
    "import numpy as np\n",
    "import pandas as pd  # charge un package pour le traitement des données\n",
    "import matplotlib.pyplot as plt"
   ]
  },
  {
   "cell_type": "markdown",
   "metadata": {},
   "source": [
    "## Chargement manipulation des données:\n",
    "\n",
    "On utilisera IPython Notebook pour faire ce TP.\n",
    "\n",
    "REM: pour les salles machines de Telecom Paristech, charger la version Anconda disponible dans le menu application/developpement. \n",
    "\n",
    "Le mot \"régression\" a été introduit par Sir Francis Galton (cousin de C. Darwin) alors qu'il étudiait la taille des individus au sein d'une descendance. Il tentait de comprendre pourquoi les grands individus d'une population semblait avoir des enfants d'une taille plus petite, plus proche de la taille moyenne de la population; d’où l'introduction du terme \"régression\". Dans la suite on va s’intéresser aux données historiques récoltées par Galton.\n"
   ]
  },
  {
   "cell_type": "markdown",
   "metadata": {},
   "source": [
    "**Questions**: que signifie '\\t' dans la commde suivante?"
   ]
  },
  {
   "cell_type": "code",
   "execution_count": 87,
   "metadata": {
    "collapsed": false
   },
   "outputs": [
    {
     "data": {
      "text/html": [
       "<div style=\"max-height:1000px;max-width:1500px;overflow:auto;\">\n",
       "<table border=\"1\" class=\"dataframe\">\n",
       "  <thead>\n",
       "    <tr style=\"text-align: right;\">\n",
       "      <th></th>\n",
       "      <th>Family</th>\n",
       "      <th>Father</th>\n",
       "      <th>Mother</th>\n",
       "      <th>Gender</th>\n",
       "      <th>Height</th>\n",
       "      <th>Kids</th>\n",
       "    </tr>\n",
       "  </thead>\n",
       "  <tbody>\n",
       "    <tr>\n",
       "      <th>0</th>\n",
       "      <td> 1</td>\n",
       "      <td> 78.5</td>\n",
       "      <td> 67.0</td>\n",
       "      <td> M</td>\n",
       "      <td> 73.2</td>\n",
       "      <td> 4</td>\n",
       "    </tr>\n",
       "    <tr>\n",
       "      <th>1</th>\n",
       "      <td> 1</td>\n",
       "      <td> 78.5</td>\n",
       "      <td> 67.0</td>\n",
       "      <td> F</td>\n",
       "      <td> 69.2</td>\n",
       "      <td> 4</td>\n",
       "    </tr>\n",
       "    <tr>\n",
       "      <th>2</th>\n",
       "      <td> 1</td>\n",
       "      <td> 78.5</td>\n",
       "      <td> 67.0</td>\n",
       "      <td> F</td>\n",
       "      <td> 69.0</td>\n",
       "      <td> 4</td>\n",
       "    </tr>\n",
       "    <tr>\n",
       "      <th>3</th>\n",
       "      <td> 1</td>\n",
       "      <td> 78.5</td>\n",
       "      <td> 67.0</td>\n",
       "      <td> F</td>\n",
       "      <td> 69.0</td>\n",
       "      <td> 4</td>\n",
       "    </tr>\n",
       "    <tr>\n",
       "      <th>4</th>\n",
       "      <td> 2</td>\n",
       "      <td> 75.5</td>\n",
       "      <td> 66.5</td>\n",
       "      <td> M</td>\n",
       "      <td> 73.5</td>\n",
       "      <td> 4</td>\n",
       "    </tr>\n",
       "  </tbody>\n",
       "</table>\n",
       "<p>5 rows × 6 columns</p>\n",
       "</div>"
      ],
      "text/plain": [
       "  Family  Father  Mother Gender  Height  Kids\n",
       "0      1    78.5    67.0      M    73.2     4\n",
       "1      1    78.5    67.0      F    69.2     4\n",
       "2      1    78.5    67.0      F    69.0     4\n",
       "3      1    78.5    67.0      F    69.0     4\n",
       "4      2    75.5    66.5      M    73.5     4\n",
       "\n",
       "[5 rows x 6 columns]"
      ]
     },
     "execution_count": 87,
     "metadata": {},
     "output_type": "execute_result"
    }
   ],
   "source": [
    "url = 'http://www.math.uah.edu/stat/data/Galton.txt'\n",
    "data = pd.read_csv(url, sep='\\t')\n",
    "data.head()"
   ]
  },
  {
   "cell_type": "markdown",
   "metadata": {},
   "source": [
    "'\\t' signifie qu'on charge identifie chaque valeur du tableau comme étant celles séparées (sep) par une tabulation ('\\t')"
   ]
  },
  {
   "cell_type": "markdown",
   "metadata": {},
   "source": [
    "**Questions**: Que fait la ligne de commande suivante? "
   ]
  },
  {
   "cell_type": "code",
   "execution_count": 88,
   "metadata": {
    "collapsed": true
   },
   "outputs": [],
   "source": [
    "data['MeanParents'] = 0.5 * (data['Father'] + 1.08 * data['Mother'])"
   ]
  },
  {
   "cell_type": "markdown",
   "metadata": {},
   "source": [
    "Cette ligne créé une nouvelle colonne 'MeanParents'. Elle est remplit comme une regression des colonnes 'Father' et 'Mother'"
   ]
  },
  {
   "cell_type": "markdown",
   "metadata": {},
   "source": [
    "Pour information la taille du parent \"moyen\" selon Galton vaut: $\\frac12\\left(\\mathrm{taille}(\\mathrm{pere}) + 1.08 \\times \\mathrm{taille}(\\mathrm{mere})\\right)$"
   ]
  },
  {
   "cell_type": "markdown",
   "metadata": {},
   "source": [
    "**Questions**: Comparer les deux commandes qui suivent"
   ]
  },
  {
   "cell_type": "code",
   "execution_count": 89,
   "metadata": {
    "collapsed": false
   },
   "outputs": [],
   "source": [
    "X0 = data[['MeanParents']]\n",
    "X0prime = data['MeanParents']\n"
   ]
  },
  {
   "cell_type": "code",
   "execution_count": 90,
   "metadata": {
    "collapsed": false
   },
   "outputs": [
    {
     "name": "stdout",
     "output_type": "stream",
     "text": [
      "(898, 1)\n",
      "(898,)\n"
     ]
    }
   ],
   "source": [
    "print X0.shape # c'est un vecteur colonne\n",
    "print X0prime.shape # c'est un vecteur (ni vecteur ligne, ni vecteur colonne : d'où l'absence de seconde dimension)"
   ]
  },
  {
   "cell_type": "markdown",
   "metadata": {},
   "source": [
    "## Régression en dimension 1:\n",
    "On note $x_i$ la taille du parent moyen pour la famille $i$ et $y_i$ la taille de l'enfant. On écrit $y_i = \\theta_1 x_i + \\theta_0 + \\varepsilon_i$ et on modlise les variables $\\varepsilon_i$ comme centrées, indépendantes de même variance $\\sigma^2$ inconnue."
   ]
  },
  {
   "cell_type": "markdown",
   "metadata": {},
   "source": [
    "**Questions**: Tracer le nuage de points $(x_i, y_i)$ pour $1\\leq i\\leq n$, où $n$ est le nombre d'observations figurant dans les données."
   ]
  },
  {
   "cell_type": "code",
   "execution_count": 91,
   "metadata": {
    "collapsed": true
   },
   "outputs": [],
   "source": [
    "%matplotlib inline"
   ]
  },
  {
   "cell_type": "code",
   "execution_count": 92,
   "metadata": {
    "collapsed": false
   },
   "outputs": [
    {
     "data": {
      "image/png": "[encoded data removed]",
      "text/plain": [
       "<matplotlib.figure.Figure at 0x7fdcb5f888d0>"
      ]
     },
     "metadata": {},
     "output_type": "display_data"
    },
    {
     "data": {
      "text/plain": [
       "(0.0, 1.0, 0.0, 1.0)"
      ]
     },
     "execution_count": 92,
     "metadata": {},
     "output_type": "execute_result"
    },
    {
     "data": {
      "image/png": "[encoded data removed]",
      "text/plain": [
       "<matplotlib.figure.Figure at 0x7fdca4d7cc50>"
      ]
     },
     "metadata": {},
     "output_type": "display_data"
    }
   ],
   "source": [
    "import matplotlib.pyplot as plt\n",
    "\n",
    "X = np.asarray(data)\n",
    "X = np.transpose(X)[1:,:]\n",
    "x = X[5,:][:,np.newaxis]# on récupère le vecteur des tailles moyennes des parents\n",
    "y = X[3,:] # on récupère le vecteur des tailles des enfants\n",
    "\n",
    "\n",
    "plt.title('taille enfant VS taille moyenne parents')\n",
    "plt.scatter(x,y)\n",
    "plt.show()\n",
    "plt.axis('off')"
   ]
  },
  {
   "cell_type": "markdown",
   "metadata": {},
   "source": [
    "**Question**: Estimer $\\theta_0$, $\\theta_1$, par $\\hat{\\theta}_0$, $\\hat{\\theta}_1$ en utilisant la fonction **LinearRegression** de **sklearn**."
   ]
  },
  {
   "cell_type": "code",
   "execution_count": 93,
   "metadata": {
    "collapsed": false
   },
   "outputs": [
    {
     "name": "stdout",
     "output_type": "stream",
     "text": [
      "estimation de theta1 =  0.641190379591\n",
      "estimation de theta0 =  22.376205683\n"
     ]
    }
   ],
   "source": [
    "from sklearn import linear_model\n",
    "skl_linmod = linear_model.LinearRegression()\n",
    "#print x.shape\n",
    "#print y.shape\n",
    "skl_linmod.fit(x,y)\n",
    "print \"estimation de theta1 = \",skl_linmod.coef_[0]\n",
    "print \"estimation de theta0 = \",skl_linmod.intercept_"
   ]
  },
  {
   "cell_type": "markdown",
   "metadata": {},
   "source": [
    "**Question**: Calculer et visualiser les valeurs prédites $\\hat y_i = \\hat\\theta_1 x_i\n",
    "+\\hat\\theta_0$ et $y_i$ sur un même graphique."
   ]
  },
  {
   "cell_type": "code",
   "execution_count": 94,
   "metadata": {
    "collapsed": false
   },
   "outputs": [
    {
     "data": {
      "image/png": "[encoded data removed]",
      "text/plain": [
       "<matplotlib.figure.Figure at 0x7fdca4b3d350>"
      ]
     },
     "metadata": {},
     "output_type": "display_data"
    },
    {
     "data": {
      "text/plain": [
       "(0.0, 1.0, 0.0, 1.0)"
      ]
     },
     "execution_count": 94,
     "metadata": {},
     "output_type": "execute_result"
    },
    {
     "data": {
      "image/png": "[encoded data removed]",
      "text/plain": [
       "<matplotlib.figure.Figure at 0x7fdca598df90>"
      ]
     },
     "metadata": {},
     "output_type": "display_data"
    }
   ],
   "source": [
    "fig=plt.figure()\n",
    "ypredict = skl_linmod.predict(x)\n",
    "plt.scatter(x,y)\n",
    "plt.plot(x,ypredict,c='r')\n",
    "plt.show()\n",
    "plt.axis('off')"
   ]
  },
  {
   "cell_type": "markdown",
   "metadata": {},
   "source": [
    "**Question**: Visualiser l'histogramme des résidus $r_i = y_i -\\hat y_i$. L'hypothèse de normalité est-elle crédible? \n",
    "\n",
    "Bonus: Afficher aussi un estimateur de la densite de type \"estimateur à noyau\" avec un noyau gaussien (cf. [https://jakevdp.github.io/blog/2013/12/01/kernel-density-estimation/](https://jakevdp.github.io/blog/2013/12/01/kernel-density-estimation/) pour plus d'informations)"
   ]
  },
  {
   "cell_type": "code",
   "execution_count": 95,
   "metadata": {
    "collapsed": false
   },
   "outputs": [
    {
     "data": {
      "image/png": "[encoded data removed]",
      "text/plain": [
       "<matplotlib.figure.Figure at 0x7fdca4ac0e50>"
      ]
     },
     "metadata": {},
     "output_type": "display_data"
    },
    {
     "data": {
      "text/plain": [
       "(0.0, 1.0, 0.0, 1.0)"
      ]
     },
     "execution_count": 95,
     "metadata": {},
     "output_type": "execute_result"
    },
    {
     "data": {
      "image/png": "[encoded data removed]",
      "text/plain": [
       "<matplotlib.figure.Figure at 0x7fdca4c5d890>"
      ]
     },
     "metadata": {},
     "output_type": "display_data"
    }
   ],
   "source": [
    "#### plt.figure()\n",
    "residual = skl_linmod.predict(X0) - y\n",
    "plt.hist(residual, bins=30, normed=True, align='mid')\n",
    "plt.title('Histogramme')\n",
    "plt.xlabel(u'Résidus') # noter la l'utilisaiton du u 'Résidus'\n",
    "plt.ylabel('Proportion')\n",
    "plt.show()\n",
    "plt.axis('off')"
   ]
  },
  {
   "cell_type": "markdown",
   "metadata": {},
   "source": [
    "Non, l'hyposthèse d'erreur normale n'est pas validée, car la distribution des residus (erreurs empiriques) bien que centrée, ne forme pas une cloche. L'hypothèse d'un mélange de deux gaussiennes seraient plus adéquate..."
   ]
  },
  {
   "cell_type": "code",
   "execution_count": 96,
   "metadata": {
    "collapsed": true
   },
   "outputs": [],
   "source": [
    "from sklearn.neighbors import KernelDensity\n",
    "def kde_sklearn(x, x_grid, bandwidth=0.2):\n",
    "    \"\"\"Kernel Density Estimation with Scikit-learn\"\"\"\n",
    "    kde_skl = KernelDensity(bandwidth=bandwidth)\n",
    "    kde_skl.fit(x[:, np.newaxis])\n",
    "    # score_samples() returns the log-likelihood of the samples\n",
    "    log_pdf = kde_skl.score_samples(x_grid[:, np.newaxis])\n",
    "    return np.exp(log_pdf)"
   ]
  },
  {
   "cell_type": "code",
   "execution_count": 97,
   "metadata": {
    "collapsed": false
   },
   "outputs": [
    {
     "data": {
      "text/plain": [
       "<matplotlib.text.Text at 0x7fdca4af8290>"
      ]
     },
     "execution_count": 97,
     "metadata": {},
     "output_type": "execute_result"
    },
    {
     "data": {
      "image/png": "[encoded data removed]",
      "text/plain": [
       "<matplotlib.figure.Figure at 0x7fdca4c5d310>"
      ]
     },
     "metadata": {},
     "output_type": "display_data"
    }
   ],
   "source": [
    "from scipy import stats\n",
    "\n",
    "x_test= np.sort(residual)\n",
    "kernel_scott = stats.gaussian_kde(np.asarray(x_test).astype(np.float),bw_method='scott')\n",
    "kernel_silverman = stats.gaussian_kde(np.asarray(x_test).astype(np.float),bw_method='silverman')\n",
    "\n",
    "\n",
    "fig=plt.figure()\n",
    "plt.hist(residual, bins=30, normed=True, align='mid',alpha=0.5)\n",
    "plt.plot(x_test, kde_sklearn(x_test, x_test, bandwidth=0.5),\n",
    "         '-r',linewidth=5,label='bandwith=0.5')\n",
    "plt.plot(x_test, kde_sklearn(x_test, x_test, bandwidth=2),\n",
    "         '-g',linewidth=5,label='bandwith=2')\n",
    "plt.plot(x_test, kde_sklearn(x_test, x_test, bandwidth=5),\n",
    "         '-k',linewidth=5,label='bandwith=5')\n",
    "plt.plot(x_test, kernel_scott(np.asarray(x_test).astype(np.float)),\n",
    "        'ob',label='bandwith=scott')\n",
    "plt.plot(x_test, kernel_silverman(np.asarray(x_test).astype(np.float)),\n",
    "        '+y',label='bandwith=silverman')\n",
    "plt.legend(loc=2)\n",
    "plt.title(u'Histogramme et estimateur à noyau')\n",
    "plt.xlabel(u'Résidus') # noter la l'utilisaiton du u 'Résidus'\n",
    "plt.ylabel('Proportion')"
   ]
  },
  {
   "cell_type": "markdown",
   "metadata": {},
   "source": [
    "Les bandwidth optimales de Scott et de Silverman donnent le même résultat, à savoir un mélange de deux gaussiennes. "
   ]
  },
  {
   "cell_type": "markdown",
   "metadata": {},
   "source": [
    "## Régression en dimension 2:"
   ]
  },
  {
   "cell_type": "markdown",
   "metadata": {},
   "source": [
    "On travaille ici avec la même base de données, mais cette fois on considère un modèle de régression avec les deux variables explicatives “**Father**” et “**Mother**”.\n",
    "\n",
    "On rappelle les notations suivantes:\n",
    "\n",
    "* $\\hat{\\theta} \\in argmin_{\\theta \\in \\mathbb{R}^p} \\|y -X\\theta\\|^2/2$ est l'estimateur par moindres carrés de $\\theta$  (pour rappel $\\hat{\\theta} = (X^\\top X)^{-1}X^\\top y$ quand la matrice $X^\\top X$ est inversible).\n",
    "\n",
    "* $\\hat y = X \\hat\\theta$, la prédiction sur les valeurs observées\n",
    "\n",
    "* Le vecteur $r=y-\\hat y$ est appelé vecteur des résidus.\n",
    "$1_n=(1,\\dots,1)^\\top $ est le vecteur rempli de un, et de taille $n\\times 1$\n"
   ]
  },
  {
   "cell_type": "markdown",
   "metadata": {},
   "source": [
    "**Question**: Calculer $\\hat\\theta$, $\\hat y$ pour ce modèle avec **sklearn**"
   ]
  },
  {
   "cell_type": "code",
   "execution_count": 98,
   "metadata": {
    "collapsed": false
   },
   "outputs": [
    {
     "name": "stdout",
     "output_type": "stream",
     "text": [
      "[ 0.4  0.3]\n",
      "22.3097054896\n"
     ]
    }
   ],
   "source": [
    "X1 = data[['Father', 'Mother']]\n",
    "skl_linmod = linear_model.LinearRegression()\n",
    "skl_linmod.fit(X1, y)\n",
    "\n",
    "results = skl_linmod.coef_\n",
    "print results\n",
    "print skl_linmod.intercept_"
   ]
  },
  {
   "cell_type": "markdown",
   "metadata": {},
   "source": [
    "**Question**: comment fonctionne la fonction meshgrid ci-dessous? Afficher les points et leur prédictions sur un même graphique 3D."
   ]
  },
  {
   "cell_type": "markdown",
   "metadata": {},
   "source": [
    "La fonction meshgrid quadrille le plan en vue d'un plot 3D (surf, mesh, scatter3, plot3...)"
   ]
  },
  {
   "cell_type": "code",
   "execution_count": 99,
   "metadata": {
    "collapsed": false
   },
   "outputs": [
    {
     "data": {
      "text/plain": [
       "<mpl_toolkits.mplot3d.art3d.Line3DCollection at 0x7fdca4e25f50>"
      ]
     },
     "execution_count": 99,
     "metadata": {},
     "output_type": "execute_result"
    },
    {
     "data": {
      "image/png": "[encoded data removed]",
      "text/plain": [
       "<matplotlib.figure.Figure at 0x7fdca4e55350>"
      ]
     },
     "metadata": {},
     "output_type": "display_data"
    }
   ],
   "source": [
    "# Meshgrid creation:\n",
    "XX = np.arange(np.min(X1['Father']) - 2, np.max(X1['Father']) + 2, 0.5)\n",
    "YY = np.arange(np.min(X1['Mother']) - 2, np.max(X1['Mother']) + 2, 0.5)\n",
    "YY = np.arange(np.min(y) - 2, np.max(y) + 2, 0.5)\n",
    "xx, yy = np.meshgrid(XX, YY)\n",
    "zz = results[0] * xx + results[1] * yy + skl_linmod.intercept_\n",
    "\n",
    "from mpl_toolkits.mplot3d import Axes3D\n",
    "fig = plt.figure()\n",
    "ax = Axes3D(fig)\n",
    "ax.plot(X1['Father'], X1['Mother'], y, 'o')\n",
    "ax.set_zlim(np.min(y) - 2, np.max(y) + 2)\n",
    "ax.set_xlabel('Father')\n",
    "ax.set_ylabel('Mother')\n",
    "ax.set_zlabel('Child')\n",
    "ax.plot_wireframe(xx, yy, zz, rstride=10, cstride=10, alpha=0.3)"
   ]
  },
  {
   "cell_type": "markdown",
   "metadata": {},
   "source": [
    "**Question**: Calculer le carré de la norme du vecteur des résidus: $ \\|r\\|^2$. Visualiser l'histogramme des résidus, et aussi un estimateur à noyau de leur densité."
   ]
  },
  {
   "cell_type": "code",
   "execution_count": 100,
   "metadata": {
    "collapsed": false
   },
   "outputs": [
    {
     "name": "stdout",
     "output_type": "stream",
     "text": [
      "erreur moindres carrés :  10261.1274012\n"
     ]
    }
   ],
   "source": [
    "print \"erreur moindres carrés : \",np.linalg.norm(y-skl_linmod.predict(X1))**2"
   ]
  },
  {
   "cell_type": "markdown",
   "metadata": {},
   "source": [
    "**Question**: Comparer l'influence des deux variables. Laquelle semble la plus explicative? Tester avant et après centrage et réduction des données. Utiliser pour cela **StandardScaler** de **preprocessing**. "
   ]
  },
  {
   "cell_type": "code",
   "execution_count": 101,
   "metadata": {
    "collapsed": false
   },
   "outputs": [
    {
     "name": "stdout",
     "output_type": "stream",
     "text": [
      "estimation_theta_father :  0.379896965324\n",
      "estimation_theta_mother :  0.283214514708\n",
      "ratio :  1.34137533776\n"
     ]
    }
   ],
   "source": [
    "print \"estimation_theta_father : \",skl_linmod.coef_[0]\n",
    "print \"estimation_theta_mother : \",skl_linmod.coef_[1]\n",
    "print \"ratio : \",skl_linmod.coef_[0]/skl_linmod.coef_[1]\n"
   ]
  },
  {
   "cell_type": "markdown",
   "metadata": {},
   "source": [
    "l'estimateur du regresseur du pere est plus grand que celui de la mère, donc le père influe plus que la mère sur la taille des enfants (1.34 fois plus)"
   ]
  },
  {
   "cell_type": "code",
   "execution_count": 102,
   "metadata": {
    "collapsed": false
   },
   "outputs": [
    {
     "name": "stdout",
     "output_type": "stream",
     "text": [
      "estimation_theta_father (après centrage et reduction) :  0.937920022315\n",
      "estimation_theta_mother (après centrage et reduction) :  0.653019128034\n",
      "ratio :  1.43628261723\n"
     ]
    }
   ],
   "source": [
    "from sklearn.preprocessing import scale\n",
    "X1reduced = scale(X1)\n",
    "skl_linmod_reduced = linear_model.LinearRegression()\n",
    "skl_linmod_reduced.fit(X1reduced, y)\n",
    "print \"estimation_theta_father (après centrage et reduction) : \",skl_linmod_reduced.coef_[0]\n",
    "print \"estimation_theta_mother (après centrage et reduction) : \",skl_linmod_reduced.coef_[1]\n",
    "print \"ratio : \",skl_linmod_reduced.coef_[0]/skl_linmod_reduced.coef_[1]"
   ]
  },
  {
   "cell_type": "markdown",
   "metadata": {},
   "source": [
    "Après centrage et réduction, l'estimateur du regresseur du pere est toujours plus grand que celui de la mère. Donc si le père influe plus sur la taille de son enfant, ce n'est pas parce que le père est plus grand que la mère (en effet, avec le centrage-réduction, on rapporte le père et le mère à la même échelle)"
   ]
  },
  {
   "cell_type": "markdown",
   "metadata": {},
   "source": [
    "## Régression en dimension 2: dataset auto-mpg \n",
    "\n",
    "On travaille maintenant sur le fichier '**auto-mpg.data**' et on cherche à régresser la consommation des voitures sur leurs caractéristiques: nombre de cylindres, cylindrés (*engine displacement* en anglais), puissance, poids, accélération, année, pays d'origine et le nom de la voiture.\n",
    "\n",
    "On utilise un modèle linéaire,\n",
    "où $y$ est le vecteur contenant les consommations des voitures (plus précisément la distance parcourue en *miles par gallon*, ou *mpg*);\n",
    "les colonnes de $X$ sont les variables restantes. "
   ]
  },
  {
   "cell_type": "markdown",
   "metadata": {},
   "source": [
    "**Question**: Importer avec Pandas la base de données disponible ici https://archive.ics.uci.edu/ml/machine-learning-databases/auto-mpg/auto-mpg.data. On peut ajouter (manuellement) le noms des colonnes en consultant l’adresse : https://archive.ics.uci.edu/ml/machine-learning-databases/auto-mpg/auto-mpg.names avec l’attribut 'name' de import_csv. On pourra si besoin considérer l'option sep=r\"\\s\\+\".\n"
   ]
  },
  {
   "cell_type": "code",
   "execution_count": 103,
   "metadata": {
    "collapsed": false
   },
   "outputs": [
    {
     "name": "stdout",
     "output_type": "stream",
     "text": [
      "(398, 9)\n"
     ]
    },
    {
     "data": {
      "text/html": [
       "<div style=\"max-height:1000px;max-width:1500px;overflow:auto;\">\n",
       "<table border=\"1\" class=\"dataframe\">\n",
       "  <thead>\n",
       "    <tr style=\"text-align: right;\">\n",
       "      <th></th>\n",
       "      <th>mpg</th>\n",
       "      <th>cylinders</th>\n",
       "      <th>displacement</th>\n",
       "      <th>horsepower</th>\n",
       "      <th>weight</th>\n",
       "      <th>acceleration</th>\n",
       "      <th>model year</th>\n",
       "      <th>origin</th>\n",
       "      <th>car name</th>\n",
       "    </tr>\n",
       "  </thead>\n",
       "  <tbody>\n",
       "    <tr>\n",
       "      <th>0</th>\n",
       "      <td> 18</td>\n",
       "      <td> 8</td>\n",
       "      <td> 307</td>\n",
       "      <td> 130</td>\n",
       "      <td> 3504</td>\n",
       "      <td> 12.0</td>\n",
       "      <td> 70</td>\n",
       "      <td> 1</td>\n",
       "      <td> \"chevrolet chevelle malibu\"</td>\n",
       "    </tr>\n",
       "    <tr>\n",
       "      <th>1</th>\n",
       "      <td> 15</td>\n",
       "      <td> 8</td>\n",
       "      <td> 350</td>\n",
       "      <td> 165</td>\n",
       "      <td> 3693</td>\n",
       "      <td> 11.5</td>\n",
       "      <td> 70</td>\n",
       "      <td> 1</td>\n",
       "      <td>         \"buick skylark 320\"</td>\n",
       "    </tr>\n",
       "    <tr>\n",
       "      <th>2</th>\n",
       "      <td> 18</td>\n",
       "      <td> 8</td>\n",
       "      <td> 318</td>\n",
       "      <td> 150</td>\n",
       "      <td> 3436</td>\n",
       "      <td> 11.0</td>\n",
       "      <td> 70</td>\n",
       "      <td> 1</td>\n",
       "      <td>        \"plymouth satellite\"</td>\n",
       "    </tr>\n",
       "    <tr>\n",
       "      <th>3</th>\n",
       "      <td> 16</td>\n",
       "      <td> 8</td>\n",
       "      <td> 304</td>\n",
       "      <td> 150</td>\n",
       "      <td> 3433</td>\n",
       "      <td> 12.0</td>\n",
       "      <td> 70</td>\n",
       "      <td> 1</td>\n",
       "      <td>             \"amc rebel sst\"</td>\n",
       "    </tr>\n",
       "    <tr>\n",
       "      <th>4</th>\n",
       "      <td> 17</td>\n",
       "      <td> 8</td>\n",
       "      <td> 302</td>\n",
       "      <td> 140</td>\n",
       "      <td> 3449</td>\n",
       "      <td> 10.5</td>\n",
       "      <td> 70</td>\n",
       "      <td> 1</td>\n",
       "      <td>               \"ford torino\"</td>\n",
       "    </tr>\n",
       "    <tr>\n",
       "      <th>5</th>\n",
       "      <td> 15</td>\n",
       "      <td> 8</td>\n",
       "      <td> 429</td>\n",
       "      <td> 198</td>\n",
       "      <td> 4341</td>\n",
       "      <td> 10.0</td>\n",
       "      <td> 70</td>\n",
       "      <td> 1</td>\n",
       "      <td>          \"ford galaxie 500\"</td>\n",
       "    </tr>\n",
       "    <tr>\n",
       "      <th>6</th>\n",
       "      <td> 14</td>\n",
       "      <td> 8</td>\n",
       "      <td> 454</td>\n",
       "      <td> 220</td>\n",
       "      <td> 4354</td>\n",
       "      <td>  9.0</td>\n",
       "      <td> 70</td>\n",
       "      <td> 1</td>\n",
       "      <td>          \"chevrolet impala\"</td>\n",
       "    </tr>\n",
       "    <tr>\n",
       "      <th>7</th>\n",
       "      <td> 14</td>\n",
       "      <td> 8</td>\n",
       "      <td> 440</td>\n",
       "      <td> 215</td>\n",
       "      <td> 4312</td>\n",
       "      <td>  8.5</td>\n",
       "      <td> 70</td>\n",
       "      <td> 1</td>\n",
       "      <td>         \"plymouth fury iii\"</td>\n",
       "    </tr>\n",
       "    <tr>\n",
       "      <th>8</th>\n",
       "      <td> 14</td>\n",
       "      <td> 8</td>\n",
       "      <td> 455</td>\n",
       "      <td> 225</td>\n",
       "      <td> 4425</td>\n",
       "      <td> 10.0</td>\n",
       "      <td> 70</td>\n",
       "      <td> 1</td>\n",
       "      <td>          \"pontiac catalina\"</td>\n",
       "    </tr>\n",
       "    <tr>\n",
       "      <th>9</th>\n",
       "      <td> 15</td>\n",
       "      <td> 8</td>\n",
       "      <td> 390</td>\n",
       "      <td> 190</td>\n",
       "      <td> 3850</td>\n",
       "      <td>  8.5</td>\n",
       "      <td> 70</td>\n",
       "      <td> 1</td>\n",
       "      <td>        \"amc ambassador dpl\"</td>\n",
       "    </tr>\n",
       "  </tbody>\n",
       "</table>\n",
       "<p>10 rows × 9 columns</p>\n",
       "</div>"
      ],
      "text/plain": [
       "   mpg  cylinders  displacement  horsepower  weight  acceleration  model year  \\\n",
       "0   18          8           307         130    3504          12.0          70   \n",
       "1   15          8           350         165    3693          11.5          70   \n",
       "2   18          8           318         150    3436          11.0          70   \n",
       "3   16          8           304         150    3433          12.0          70   \n",
       "4   17          8           302         140    3449          10.5          70   \n",
       "5   15          8           429         198    4341          10.0          70   \n",
       "6   14          8           454         220    4354           9.0          70   \n",
       "7   14          8           440         215    4312           8.5          70   \n",
       "8   14          8           455         225    4425          10.0          70   \n",
       "9   15          8           390         190    3850           8.5          70   \n",
       "\n",
       "   origin                     car name  \n",
       "0       1  \"chevrolet chevelle malibu\"  \n",
       "1       1          \"buick skylark 320\"  \n",
       "2       1         \"plymouth satellite\"  \n",
       "3       1              \"amc rebel sst\"  \n",
       "4       1                \"ford torino\"  \n",
       "5       1           \"ford galaxie 500\"  \n",
       "6       1           \"chevrolet impala\"  \n",
       "7       1          \"plymouth fury iii\"  \n",
       "8       1           \"pontiac catalina\"  \n",
       "9       1         \"amc ambassador dpl\"  \n",
       "\n",
       "[10 rows x 9 columns]"
      ]
     },
     "execution_count": 103,
     "metadata": {},
     "output_type": "execute_result"
    }
   ],
   "source": [
    "url = 'https://archive.ics.uci.edu/ml/machine-learning-databases/auto-mpg/auto-mpg.data'\n",
    "u_cols = ['mpg','cylinders', 'displacement', 'horsepower',\n",
    "          'weight', 'acceleration', 'model year', 'origin', 'car name']\n",
    "data = pd.read_csv(url, names=u_cols, sep='\\s\\s+|\\t', na_values='?')\n",
    "print data.shape\n",
    "data.head(10)"
   ]
  },
  {
   "cell_type": "markdown",
   "metadata": {},
   "source": [
    "**Question**: Quelle est le marqueur utilisé pour les données manquantes dans le fichier csv utilisé ? Changer cet élément en un NaN, avec l’option na_values de **read_csv**. Enlever les lignes\n",
    "possédant des valeurs manquantes dans la base de données."
   ]
  },
  {
   "cell_type": "markdown",
   "metadata": {},
   "source": [
    "le marqueur des données manquantes est la point d'interrogation ('?')"
   ]
  },
  {
   "cell_type": "markdown",
   "metadata": {},
   "source": [
    "**Question**: Tester s'il y a des NaN dans le dataframe. Quelles sont les lignes qui en ont? pour quelle(s) variable(s)? Enlever ces lignes. "
   ]
  },
  {
   "cell_type": "code",
   "execution_count": 104,
   "metadata": {
    "collapsed": false,
    "scrolled": true
   },
   "outputs": [
    {
     "name": "stdout",
     "output_type": "stream",
     "text": [
      "mpg             False\n",
      "cylinders       False\n",
      "displacement    False\n",
      "horsepower       True\n",
      "weight          False\n",
      "acceleration    False\n",
      "model year      False\n",
      "origin          False\n",
      "car name        False\n",
      "dtype: bool\n"
     ]
    }
   ],
   "source": [
    "data_nan=data.isnull().any()\n",
    "print data_nan"
   ]
  },
  {
   "cell_type": "markdown",
   "metadata": {},
   "source": [
    "les variables pour lesquelles on a True sont les variables à qui ils manquent des infos pour certains vehicules"
   ]
  },
  {
   "cell_type": "code",
   "execution_count": 105,
   "metadata": {
    "collapsed": false
   },
   "outputs": [
    {
     "name": "stdout",
     "output_type": "stream",
     "text": [
      "[ 32 126 330 336 354 374]\n"
     ]
    }
   ],
   "source": [
    "print np.where(data['horsepower'].isnull())[0]\n",
    "# opposite\n",
    "# np.where(data['horsepower'].notnull())[0]"
   ]
  },
  {
   "cell_type": "markdown",
   "metadata": {},
   "source": [
    "il s'agit des lignes (véhicules) contenant l'information de puissance 'horsepower' manquante"
   ]
  },
  {
   "cell_type": "code",
   "execution_count": 106,
   "metadata": {
    "collapsed": false,
    "scrolled": true
   },
   "outputs": [
    {
     "name": "stdout",
     "output_type": "stream",
     "text": [
      "(392, 9)\n"
     ]
    }
   ],
   "source": [
    "data = data.dropna(axis=0, how='any')\n",
    "print data.shape"
   ]
  },
  {
   "cell_type": "markdown",
   "metadata": {},
   "source": [
    "nouvelle forme de la matrice des variables explicatives"
   ]
  },
  {
   "cell_type": "markdown",
   "metadata": {},
   "source": [
    "**Question**: Calculer $\\hat\\theta$ et $\\hat y$ sur une sous partie de la base: garder les $9$ premières lignes et exclure la variable \n",
    "'**car name**' de l'étude. Que constatez-vous?"
   ]
  },
  {
   "cell_type": "code",
   "execution_count": 107,
   "metadata": {
    "collapsed": false
   },
   "outputs": [
    {
     "name": "stdout",
     "output_type": "stream",
     "text": [
      "estimation_theta :  [ 0.       5.65281 -3.63395 -3.5975  -0.54932  0.       0.     ]\n"
     ]
    }
   ],
   "source": [
    "y = data['mpg']\n",
    "X = data.drop(['car name', 'mpg'], axis=1)\n",
    "from sklearn.preprocessing import StandardScaler\n",
    "scaler = StandardScaler().fit(X)\n",
    "X = scaler.transform(X)\n",
    "\n",
    "skl_linmod = linear_model.LinearRegression()\n",
    "skl_linmod.fit(X[:9], y[:9])\n",
    "np.set_printoptions(precision=5)\n",
    "print \"estimation_theta : \", skl_linmod.coef_"
   ]
  },
  {
   "cell_type": "markdown",
   "metadata": {},
   "source": [
    "=> la cylindrée, l'origine et l'année n'ont aucune influence sur la consommation du véhicule, en effet : ces variables sont constantes pour ces 9 véhicules. Ces variables étant discrètes (qualitatives), on doit s'attendre à les voir constante sur plusieurs groupes de véhicules."
   ]
  },
  {
   "cell_type": "code",
   "execution_count": 108,
   "metadata": {
    "collapsed": false
   },
   "outputs": [
    {
     "name": "stdout",
     "output_type": "stream",
     "text": [
      "estimation_theta0 :  15.6860116527\n",
      "estimation_y :  [ 17.84  16.15  17.03  16.08  17.15  14.86  14.27  14.27  13.35]\n",
      "y            :  [ 18.  15.  18.  16.  17.  15.  14.  14.  14.]\n",
      "linear model score (9 premiers elements) :  0.867674331007\n"
     ]
    }
   ],
   "source": [
    "np.set_printoptions(precision=2)\n",
    "print \"estimation_theta0 : \",skl_linmod.intercept_\n",
    "print \"estimation_y : \",skl_linmod.predict(X[:9])\n",
    "print \"y            : \",y[:9].ravel()\n",
    "print \"linear model score (9 premiers elements) : \",skl_linmod.score(X[:9],y[:9])"
   ]
  },
  {
   "cell_type": "markdown",
   "metadata": {},
   "source": [
    "=> Le modèle représente assez bien les données avec un coefficient de correlation de 0.867"
   ]
  },
  {
   "cell_type": "code",
   "execution_count": 109,
   "metadata": {
    "collapsed": false
   },
   "outputs": [
    {
     "name": "stdout",
     "output_type": "stream",
     "text": [
      "valeurs propres de la matrice des variables :  [  3.81e+00   6.80e-01   3.88e-01   9.83e-02   6.66e-16   0.00e+00\n",
      "   0.00e+00]\n",
      "rang de la matrice des variables X[:9] :  4\n"
     ]
    }
   ],
   "source": [
    "print \"valeurs propres de la matrice des variables : \",skl_linmod.singular_\n",
    "print \"rang de la matrice des variables X[:9] : \",skl_linmod.rank_"
   ]
  },
  {
   "cell_type": "markdown",
   "metadata": {},
   "source": [
    "=> on a une matrice de rang 4, et non min(7,9)=7 car on a 3 variables constantes et donc 3 colonnes liées (soit rang=7-3=4)"
   ]
  },
  {
   "cell_type": "markdown",
   "metadata": {},
   "source": [
    "=> on a une valeur propre très grande par rapport aux autres, et donc une variable qui varie beaucoup plus que les autres et sur laquelle on pourrait projeter les données (PCA) et se retrouver avec une regression à un regresseur (seule la variable qui avait la plus grande valeur propre va expliquer la consommation du véhicule)"
   ]
  },
  {
   "cell_type": "markdown",
   "metadata": {
    "collapsed": true
   },
   "source": [
    "**Question**: Calculer l'estimateur des moindres carrés $\\hat\\theta$ et le vecteur de prediction $\\hat y$ cette fois sur l'intégralité des données. Calculer le carré de la norme du vecteur des résidus $ \\|r\\|^2$,\n",
    " puis $\\|r\\|^2/n$. Vérifier numériquement que:\n",
    " \n",
    "  $$\\| y - \\bar{y}_n 1_n\\|^2=\\| y - \\hat{y}\\|^2 +\\| \\hat{y} - \\bar{y}_n 1_n\\|^2$$\n",
    "  \n",
    " avec $\\bar{y}_n$ répresentant la moyenne des $y_i$.\n",
    "  \n",
    "  "
   ]
  },
  {
   "cell_type": "code",
   "execution_count": 110,
   "metadata": {
    "collapsed": false
   },
   "outputs": [
    {
     "name": "stdout",
     "output_type": "stream",
     "text": [
      "estimation_theta (toutes les données) :  [-0.84  2.08 -0.65 -5.49  0.22  2.76  1.15]\n"
     ]
    }
   ],
   "source": [
    "#scaler = StandardScaler().fit(X)\n",
    "#X = scaler.transform(X) # le centrage-reduction est fait à la cellule In [181]\n",
    "\n",
    "skl_linmod_all = linear_model.LinearRegression()\n",
    "skl_linmod_all.fit(X, y)\n",
    "print \"estimation_theta (toutes les données) : \", skl_linmod_all.coef_"
   ]
  },
  {
   "cell_type": "markdown",
   "metadata": {},
   "source": [
    "=> Cette fois-ci, toutes les variables ont une influence sur la consommation du véhicule"
   ]
  },
  {
   "cell_type": "code",
   "execution_count": 111,
   "metadata": {
    "collapsed": false,
    "scrolled": true
   },
   "outputs": [
    {
     "name": "stdout",
     "output_type": "stream",
     "text": [
      "estimation_theta0 (toutes les données) :  23.4459183673\n",
      "estimation_y :  [ 15.   14.   15.2  15.1  15.   10.7  10.7  10.7  10.2  13.1  15.3  14.1\n",
      "  14.6  18.9  24.1]\n",
      "y            :  [ 18.  15.  18.  16.  17.  15.  14.  14.  14.  15.  15.  14.  15.  14.  24.]\n",
      "linear model score :  0.821478076481\n"
     ]
    }
   ],
   "source": [
    "np.set_printoptions(precision=1)\n",
    "print \"estimation_theta0 (toutes les données) : \",skl_linmod_all.intercept_\n",
    "print \"estimation_y : \",skl_linmod_all.predict(X[:15])\n",
    "print \"y            : \",y[:15].ravel()\n",
    "print \"linear model score : \", skl_linmod_all.score(X,y)"
   ]
  },
  {
   "cell_type": "code",
   "execution_count": 112,
   "metadata": {
    "collapsed": false
   },
   "outputs": [
    {
     "data": {
      "text/plain": [
       "-1.0913936421275139e-11"
      ]
     },
     "execution_count": 112,
     "metadata": {},
     "output_type": "execute_result"
    }
   ],
   "source": [
    "yhat = skl_linmod_all.predict(X)\n",
    "np.linalg.norm(y-np.mean(y))**2 - np.linalg.norm(y-yhat)**2 - np.linalg.norm(yhat-np.mean(y))**2"
   ]
  },
  {
   "cell_type": "markdown",
   "metadata": {},
   "source": [
    "=> la différence vaut ~0. L'erreur totale est en partie expliquée par le modèle, l'autre partie provient des residus."
   ]
  },
  {
   "cell_type": "markdown",
   "metadata": {},
   "source": [
    "**Question**: Supposons que l'on vous fournisse les caractéristiques suivantes d'un nouveau véhicule :\n",
    "\n",
    "cylinders=6; displacement=225; horsepower =100; weight=32334; acceleration=15.4; year=76; origin=1    \n",
    "\n",
    "Prédire alors sa consommation."
   ]
  },
  {
   "cell_type": "code",
   "execution_count": 113,
   "metadata": {
    "collapsed": false
   },
   "outputs": [
    {
     "name": "stdout",
     "output_type": "stream",
     "text": [
      "[-167.]\n"
     ]
    },
    {
     "name": "stderr",
     "output_type": "stream",
     "text": [
      "/usr/local/lib/python2.7/dist-packages/sklearn/preprocessing/data.py:646: DeprecationWarning: Passing 1d arrays as data is deprecated in 0.17 and will raise ValueError in 0.19. Reshape your data either using X.reshape(-1, 1) if your data has a single feature or X.reshape(1, -1) if it contains a single sample.\n",
      "  warnings.warn(DEPRECATION_MSG_1D, DeprecationWarning)\n"
     ]
    }
   ],
   "source": [
    "Xtest = scaler.transform(np.asarray([6,225,100,32334,15.4,76,1]))\n",
    "#Xtest = scaler.transform(np.asarray([8,390,190,3850,8.5,70,1]))\n",
    "ytest = skl_linmod_all.predict(Xtest[np.newaxis,:])\n",
    "print ytest"
   ]
  },
  {
   "cell_type": "markdown",
   "metadata": {},
   "source": [
    "=> on obtient une consommation negatif! Ce qui montre que le modèle ne se généralise pas bien à des données nouvelles"
   ]
  },
  {
   "cell_type": "markdown",
   "metadata": {},
   "source": [
    "**Question**: Utiliser la transformation **PolynomialFeatures** de **sklearn** sur les données, pour ajuster un modèle d'ordre 2. On pourra tester cela avec ou sans les termes d'interactions avec l'option **interaction_only=True/False**"
   ]
  },
  {
   "cell_type": "code",
   "execution_count": 114,
   "metadata": {
    "collapsed": false
   },
   "outputs": [
    {
     "name": "stdout",
     "output_type": "stream",
     "text": [
      "polynomial model score (interaction_only=False) :  0.895314520494\n",
      "polynomial model score (interaction_only=True) :  0.889349948832\n"
     ]
    }
   ],
   "source": [
    "from sklearn.preprocessing import PolynomialFeatures\n",
    "poly = PolynomialFeatures(2)\n",
    "X2 = poly.fit_transform(X)\n",
    "skl_polymod_all = linear_model.LinearRegression()\n",
    "skl_polymod_all.fit(X2,y)\n",
    "print \"polynomial model score (interaction_only=False) : \", skl_polymod_all.score(X2,y)\n",
    "\n",
    "polyi = PolynomialFeatures(2,interaction_only=True)\n",
    "X2i = polyi.fit_transform(X)\n",
    "skl_polyimod_all = linear_model.LinearRegression()\n",
    "skl_polyimod_all.fit(X2i,y)\n",
    "print \"polynomial model score (interaction_only=True) : \", skl_polyimod_all.score(X2i,y)"
   ]
  },
  {
   "cell_type": "markdown",
   "metadata": {},
   "source": [
    "=> modèle polynomial meilleur (R~0.89) que le modèle lineaire (R=0.82)"
   ]
  },
  {
   "cell_type": "code",
   "execution_count": 119,
   "metadata": {
    "collapsed": false,
    "scrolled": true
   },
   "outputs": [
    {
     "data": {
      "image/png": "[encoded data removed]",
      "text/plain": [
       "<matplotlib.figure.Figure at 0x7fdca4c34fd0>"
      ]
     },
     "metadata": {},
     "output_type": "display_data"
    }
   ],
   "source": [
    "from sklearn import cross_validation\n",
    "\n",
    "Nd=3\n",
    "list_degres = range(1,Nd+1,1)\n",
    "emp_risk = np.zeros(Nd)\n",
    "emp_risk_test = np.zeros(Nd)\n",
    "interact = False\n",
    "for i,d in enumerate(list_degres):\n",
    "    poly = PolynomialFeatures(d,interaction_only=interact)\n",
    "    Xd = poly.fit_transform(X)\n",
    "    # empirical risk\n",
    "    skl_polymod_all_d = linear_model.LinearRegression()\n",
    "    skl_polymod_all_d.fit(Xd,y)\n",
    "    emp_risk[i] = 1-skl_polymod_all_d.score(Xd,y)\n",
    "    # empirical risk on test data\n",
    "    Xd_train,Xd_test,yd_train,yd_test = cross_validation.train_test_split(Xd,y,test_size=0.3,random_state=0)\n",
    "    skl_polymod_all_d = linear_model.LinearRegression()\n",
    "    skl_polymod_all_d.fit(Xd_train,yd_train)\n",
    "    emp_risk_test[i] = 1-skl_polymod_all_d.score(Xd_test,yd_test)\n",
    "\n",
    "fig = plt.figure()\n",
    "plt.plot(list_degres,emp_risk_test,label='emp risk test')\n",
    "plt.plot(list_degres,emp_risk,label='emp risk')\n",
    "plt.xlabel('degree')\n",
    "plt.ylabel('risk')\n",
    "plt.legend()\n",
    "plt.title('evolution of empirical risk for polynomial regression model vs. polnomial regression model complexity ')\n",
    "plt.show()\n",
    "\n",
    "    "
   ]
  },
  {
   "cell_type": "markdown",
   "metadata": {},
   "source": [
    "On voit que le risque empirique diminue avec la complexité, car il s'agit de l'erreur d'ajustement aux données (biais) seulement (plus un modele est complexe, et plus il a de chance de s'ajuster aux données). Le risque empirique de test tient compte lui, de l'erreur d'estimation à posteriori (variance), il diminue puis se dégrade avec la complexité.\n",
    "On obtient un compromis biais-variance pour **une complexité de degré 2**."
   ]
  },
  {
   "cell_type": "markdown",
   "metadata": {
    "collapsed": false
   },
   "source": [
    "**Question Bonus** : Proposer une manière \n",
    "gérer les variables qualitatives dans le cas, potentiellement avec **sklearn.preprocessing.OneHotEncoder**."
   ]
  },
  {
   "cell_type": "code",
   "execution_count": 116,
   "metadata": {
    "collapsed": false
   },
   "outputs": [
    {
     "name": "stdout",
     "output_type": "stream",
     "text": [
      "number of features :  557\n",
      "linear model score (with oneToHot encoder) :  0.999244300561\n"
     ]
    }
   ],
   "source": [
    "from sklearn.preprocessing import OneHotEncoder\n",
    "y = data['mpg']\n",
    "X = data.drop(['car name', 'mpg'], axis=1)\n",
    "encoder = OneHotEncoder()\n",
    "encoder.fit(X)  \n",
    "Xenc = encoder.transform(X)\n",
    "skl_linmod_enc_all = linear_model.LinearRegression()\n",
    "skl_linmod_enc_all.fit(Xenc,y)\n",
    "print \"number of features : \",Xenc.shape[1]\n",
    "print \"linear model score (with oneToHot encoder) : \",skl_linmod_enc_all.score(Xenc,y)\n"
   ]
  },
  {
   "cell_type": "markdown",
   "metadata": {},
   "source": [
    "=> on obtient un coefficient de correlation très proche de 1 (R=0.999), bien meilleur que sans encodage. Mais attention, car on vient de rajouter un très grand nombre de features(on est passé de 7 à 557), donc le modèle est plus complexe (d'où le risque faible 1-R) ce qui va malheureusement augmenter la variance du classifieur en contre-partie."
   ]
  },
  {
   "cell_type": "code",
   "execution_count": 138,
   "metadata": {
    "collapsed": false
   },
   "outputs": [
    {
     "data": {
      "image/png": "[encoded data removed]",
      "text/plain": [
       "<matplotlib.figure.Figure at 0x7fdca4d9d490>"
      ]
     },
     "metadata": {},
     "output_type": "display_data"
    },
    {
     "name": "stdout",
     "output_type": "stream",
     "text": [
      "best penality alpha value :  0.842105263158\n"
     ]
    }
   ],
   "source": [
    "from sklearn.linear_model import Ridge\n",
    "\n",
    "list_alphas = np.linspace(0,4,20)\n",
    "emp_risk = np.zeros(list_alphas.size)\n",
    "emp_risk_test = np.zeros(list_alphas.size)\n",
    "Xa_train,Xa_test,ya_train,ya_test = cross_validation.train_test_split(Xenc,y,test_size=0.2,random_state=0)\n",
    "for i,a in enumerate(list_alphas):\n",
    "    # empirical risk\n",
    "    skl_ridge = Ridge(alpha=a)\n",
    "    skl_ridge.fit(Xenc,y)\n",
    "    emp_risk[i] = 1-skl_ridge.score(Xenc,y)\n",
    "    # empirical risk on test data\n",
    "    skl_ridge = Ridge(alpha=a)\n",
    "    skl_ridge.fit(Xa_train,ya_train)\n",
    "    emp_risk_test[i] = 1-skl_ridge.score(Xa_test,ya_test)\n",
    "\n",
    "\n",
    "fig = plt.figure()\n",
    "plt.plot(list_alphas,emp_risk_test,label='emp risk test')\n",
    "plt.plot(list_alphas,emp_risk,label='emp risk')\n",
    "plt.xlabel('alpha')\n",
    "plt.ylabel('risk')\n",
    "plt.legend()\n",
    "plt.title('evolution of empirical risk for regression model vs. ridge penality ')\n",
    "plt.show()\n",
    "\n",
    "best_alpha = list_alphas[emp_risk_test.argmin()]\n",
    "print \"best penality alpha value : \",best_alpha"
   ]
  },
  {
   "cell_type": "markdown",
   "metadata": {},
   "source": [
    "On voit que l'erreur d'ajustement (biais) se détériore à mesure qu'on pénalise la régression. En revanche, le risque empirique de test atteint un minimum pour une pénalité alpha = 0.842 : il s'agit du meilleur modèle pour la classe des regressions (celui qui s'approche le plus du risque de l'oracle)"
   ]
  },
  {
   "cell_type": "code",
   "execution_count": null,
   "metadata": {
    "collapsed": true
   },
   "outputs": [],
   "source": []
  }
 ],
 "metadata": {
  "kernelspec": {
   "display_name": "Python 2",
   "language": "python",
   "name": "python2"
  },
  "language_info": {
   "codemirror_mode": {
    "name": "ipython",
    "version": 2
   },
   "file_extension": ".py",
   "mimetype": "text/x-python",
   "name": "python",
   "nbconvert_exporter": "python",
   "pygments_lexer": "ipython2",
   "version": "2.7.6"
  }
 },
 "nbformat": 4,
 "nbformat_minor": 0
}
