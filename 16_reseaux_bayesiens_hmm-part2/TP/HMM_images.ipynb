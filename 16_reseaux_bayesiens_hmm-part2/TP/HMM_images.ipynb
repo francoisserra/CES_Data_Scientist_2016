{
 "cells": [
  {
   "cell_type": "markdown",
   "metadata": {},
   "source": [
    "# II.2 Génération de séquences d'observation"
   ]
  },
  {
   "cell_type": "markdown",
   "metadata": {},
   "source": [
    "### II.2.a Matrices"
   ]
  },
  {
   "cell_type": "code",
   "execution_count": 14,
   "metadata": {
    "collapsed": false
   },
   "outputs": [
    {
     "data": {
      "image/png": "[encoded data removed]",
      "text/plain": [
       "<matplotlib.figure.Figure at 0x7f3b62f2e1d0>"
      ]
     },
     "metadata": {},
     "output_type": "display_data"
    },
    {
     "name": "stdout",
     "output_type": "stream",
     "text": [
      "(32, 5)\n"
     ]
    }
   ],
   "source": [
    "import numpy as np\n",
    "import matplotlib.pyplot as plt\n",
    "%matplotlib inline\n",
    "\n",
    "A0 = np.loadtxt(\"data_txt_compact/A0.txt\") \n",
    "A1 = np.loadtxt(\"data_txt_compact/A1.txt\") \n",
    "A7 = np.loadtxt(\"data_txt_compact/A7.txt\") \n",
    "pi0 = np.loadtxt(\"data_txt_compact/vect_pi0.txt\")\n",
    "pi1 = np.loadtxt(\"data_txt_compact/vect_pi1.txt\")\n",
    "pi7 = np.loadtxt(\"data_txt_compact/vect_pi7.txt\")\n",
    "B0 = np.loadtxt(\"data_txt_compact/B0.txt\") \n",
    "B1 = np.loadtxt(\"data_txt_compact/B1.txt\") \n",
    "B7 = np.loadtxt(\"data_txt_compact/B7.txt\") \n",
    "\n",
    "filename=\"data_txt_compact/matrice_symboles.txt\"  \n",
    "v=np.loadtxt(filename)\n",
    "plt.title('the 32 possible observations')\n",
    "plt.imshow(v,interpolation=\"nearest\").set_cmap('gray')  \n",
    "plt.show()\n",
    "\n",
    "print B1.shape"
   ]
  },
  {
   "cell_type": "markdown",
   "metadata": {},
   "source": [
    "### II.2.1 matrices"
   ]
  },
  {
   "cell_type": "code",
   "execution_count": 2,
   "metadata": {
    "collapsed": false
   },
   "outputs": [
    {
     "name": "stdout",
     "output_type": "stream",
     "text": [
      "Les zeros de la matrice A correspondent aux passages d'état caché impossible.\n",
      "les zeros de la matrice B correspondent observations impossibles de chaque état caché\n",
      "Les zéros du vecteur PI correspondent aux états cachés initiaux impossibles\n"
     ]
    }
   ],
   "source": [
    "print(\"Les zeros de la matrice A correspondent aux passages d'état caché impossible.\")\n",
    "print(\"les zeros de la matrice B correspondent observations impossibles de chaque état caché\")\n",
    "print(\"Les zéros du vecteur PI correspondent aux états cachés initiaux impossibles\")"
   ]
  },
  {
   "cell_type": "markdown",
   "metadata": {},
   "source": [
    "### II.2.2 Génerer un état"
   ]
  },
  {
   "cell_type": "code",
   "execution_count": 3,
   "metadata": {
    "collapsed": false
   },
   "outputs": [
    {
     "name": "stdout",
     "output_type": "stream",
     "text": [
      "0\n"
     ]
    },
    {
     "data": {
      "image/png": "[encoded data removed]",
      "text/plain": [
       "<matplotlib.figure.Figure at 0x7f3b9818e3d0>"
      ]
     },
     "metadata": {},
     "output_type": "display_data"
    }
   ],
   "source": [
    "def genererEtat(T,qt,display=False):\n",
    "    # generer un nouvel état à partir de l'état courant qt et de la matrice de transition T\n",
    "    r = np.random.random()\n",
    "    #print ind\n",
    "    probas = T[qt,:]\n",
    "    #print probas\n",
    "    Frepart = np.cumsum(probas)\n",
    "    #print Frepart\n",
    "    i=0\n",
    "    while Frepart[i]<r:\n",
    "        i = i+1\n",
    "    #print i\n",
    "    qtpp = i\n",
    "    if display:\n",
    "        plt.plot(np.arange(len(probas)),Frepart)\n",
    "        plt.xlabel('values')\n",
    "        plt.ylabel('Frepartition')\n",
    "        plt.title(\"Repartition Function for state '\"+str(qt)+\"'\")\n",
    "    return qtpp\n",
    "    \n",
    "qtpp = genererEtat(A0,0,True)\n",
    "print qtpp"
   ]
  },
  {
   "cell_type": "markdown",
   "metadata": {},
   "source": [
    "### II.2.3. Générer une séquence d'états cachés"
   ]
  },
  {
   "cell_type": "code",
   "execution_count": 4,
   "metadata": {
    "collapsed": false
   },
   "outputs": [],
   "source": [
    "def genererSequence(T,n):\n",
    "    sequence = \"0\"\n",
    "    qt = 0\n",
    "    i=0\n",
    "    while( i<n ):\n",
    "        i = i+1\n",
    "        qtpp = genererEtat(T,qt)\n",
    "        #print i\n",
    "        sequence = sequence+str(qtpp)\n",
    "        qt = qtpp\n",
    "        \n",
    "    return sequence\n"
   ]
  },
  {
   "cell_type": "code",
   "execution_count": 6,
   "metadata": {
    "collapsed": false
   },
   "outputs": [
    {
     "name": "stdout",
     "output_type": "stream",
     "text": [
      "some sequences of '0' :\n",
      "0000011112223344\n",
      "0000123333333444\n",
      "0000000000011111\n",
      "some sequences of '1' :\n",
      "0000000000122234\n",
      "0112222233444444\n",
      "0123444444444444\n",
      "some sequences of '7' :\n",
      "0000000001122222\n",
      "0000000000000000\n",
      "0000000000000123\n"
     ]
    }
   ],
   "source": [
    "print(\"some sequences of '0' :\")\n",
    "print(genererSequence(A0,15))\n",
    "print(genererSequence(A0,15))\n",
    "print(genererSequence(A0,15))\n",
    "\n",
    "print(\"some sequences of '1' :\")\n",
    "print(genererSequence(A1,15))\n",
    "print(genererSequence(A1,15))\n",
    "print(genererSequence(A1,15))\n",
    "\n",
    "print(\"some sequences of '7' :\")\n",
    "print(genererSequence(A7,15))\n",
    "print(genererSequence(A7,15))\n",
    "print(genererSequence(A7,15))"
   ]
  },
  {
   "cell_type": "markdown",
   "metadata": {},
   "source": [
    "### II.2.4 Générer une séquence d'observations"
   ]
  },
  {
   "cell_type": "code",
   "execution_count": 8,
   "metadata": {
    "collapsed": false
   },
   "outputs": [
    {
     "data": {
      "image/png": "[encoded data removed]",
      "text/plain": [
       "<matplotlib.figure.Figure at 0x7f3b632e2890>"
      ]
     },
     "metadata": {},
     "output_type": "display_data"
    },
    {
     "data": {
      "image/png": "[encoded data removed]",
      "text/plain": [
       "<matplotlib.figure.Figure at 0x7f3b62ebca50>"
      ]
     },
     "metadata": {},
     "output_type": "display_data"
    },
    {
     "data": {
      "image/png": "[encoded data removed]",
      "text/plain": [
       "<matplotlib.figure.Figure at 0x7f3b62de54d0>"
      ]
     },
     "metadata": {},
     "output_type": "display_data"
    }
   ],
   "source": [
    "def genererObservation(B,sequence):\n",
    "    observation = np.zeros((5,len(sequence)))\n",
    "    for ind,qt in enumerate(sequence):\n",
    "        qt = int(qt)\n",
    "        r = np.random.random()\n",
    "        probas = B[:,qt] \n",
    "        #print probas\n",
    "        Frepart = np.cumsum(probas)\n",
    "        #print Frepart\n",
    "        i=0\n",
    "        while Frepart[i]<r:\n",
    "            i = i+1\n",
    "        observation[:,ind] = v[:,i]\n",
    "        \n",
    "    return observation\n",
    "        \n",
    "N = 30\n",
    "\n",
    "plt.title(\"observation of '0'\")\n",
    "plt.imshow(genererObservation(B0,genererSequence(A0,N)),interpolation=\"nearest\").set_cmap('gray')  \n",
    "plt.show()\n",
    "\n",
    "plt.title(\"observation of '1'\")\n",
    "plt.imshow(genererObservation(B1,genererSequence(A1,N)),interpolation=\"nearest\").set_cmap('gray')  \n",
    "plt.show()\n",
    "\n",
    "plt.title(\"observation of '7'\")\n",
    "plt.imshow(genererObservation(B7,genererSequence(A7,N)),interpolation=\"nearest\").set_cmap('gray')  \n",
    "plt.show()"
   ]
  },
  {
   "cell_type": "markdown",
   "metadata": {
    "collapsed": false
   },
   "source": [
    "## II.3 Calcul de la vraisemblance de séquences d’observations\n"
   ]
  },
  {
   "cell_type": "markdown",
   "metadata": {},
   "source": [
    "### II.3.1 Séquences de test"
   ]
  },
  {
   "cell_type": "code",
   "execution_count": 17,
   "metadata": {
    "collapsed": false
   },
   "outputs": [
    {
     "name": "stderr",
     "output_type": "stream",
     "text": [
      "/usr/local/lib/python2.7/dist-packages/ipykernel/__main__.py:7: DeprecationWarning: using a non-integer number instead of an integer will result in an error in the future\n"
     ]
    },
    {
     "data": {
      "image/png": "[encoded data removed]",
      "text/plain": [
       "<matplotlib.figure.Figure at 0x7f3b627a0a50>"
      ]
     },
     "metadata": {},
     "output_type": "display_data"
    },
    {
     "name": "stderr",
     "output_type": "stream",
     "text": [
      "/usr/local/lib/python2.7/dist-packages/ipykernel/__main__.py:19: DeprecationWarning: using a non-integer number instead of an integer will result in an error in the future\n"
     ]
    },
    {
     "data": {
      "image/png": "[encoded data removed]",
      "text/plain": [
       "<matplotlib.figure.Figure at 0x7f3b62b24fd0>"
      ]
     },
     "metadata": {},
     "output_type": "display_data"
    },
    {
     "name": "stderr",
     "output_type": "stream",
     "text": [
      "/usr/local/lib/python2.7/dist-packages/ipykernel/__main__.py:31: DeprecationWarning: using a non-integer number instead of an integer will result in an error in the future\n"
     ]
    },
    {
     "data": {
      "image/png": "[encoded data removed]",
      "text/plain": [
       "<matplotlib.figure.Figure at 0x7f3b623802d0>"
      ]
     },
     "metadata": {},
     "output_type": "display_data"
    }
   ],
   "source": [
    "filename=\"data_txt_compact/SeqTest0.txt\"\n",
    "sequences0=np.loadtxt(filename)\n",
    "fig, axes = plt.subplots(nrows=1, ncols=sequences.shape[0], figsize=(20,20))\n",
    "for n,seq in enumerate(sequences0):\n",
    "    seq_image = np.zeros((5,len(seq)))\n",
    "    for i,o in enumerate(seq):\n",
    "        seq_image[:,i] = v[:,o-1]\n",
    "    ax = axes[n]\n",
    "    ax.set_title(\"sequence \"+str(n)+\" of SeqTest0.txt\")\n",
    "    ax.imshow(seq_image,interpolation=\"nearest\").set_cmap('gray')  \n",
    "plt.show()\n",
    "    \n",
    "filename=\"data_txt_compact/SeqTest1.txt\"\n",
    "sequences1=np.loadtxt(filename)    \n",
    "fig, axes = plt.subplots(nrows=1, ncols=sequences.shape[0], figsize=(20,20))\n",
    "for n,seq in enumerate(sequences1):\n",
    "    seq_image = np.zeros((5,len(seq)))\n",
    "    for i,o in enumerate(seq):\n",
    "        seq_image[:,i] = v[:,o-1]\n",
    "    ax = axes[n]\n",
    "    ax.set_title(\"sequence \"+str(n)+\" of SeqTest1.txt\")\n",
    "    ax.imshow(seq_image,interpolation=\"nearest\").set_cmap('gray')  \n",
    "plt.show()\n",
    "    \n",
    "filename=\"data_txt_compact/SeqTest7.txt\"\n",
    "sequences7=np.loadtxt(filename)  \n",
    "fig, axes = plt.subplots(nrows=1, ncols=sequences.shape[0], figsize=(20,20))\n",
    "for n,seq in enumerate(sequences7):\n",
    "    seq_image = np.zeros((5,len(seq)))\n",
    "    for i,o in enumerate(seq):\n",
    "        seq_image[:,i] = v[:,o-1]\n",
    "    ax = axes[n]\n",
    "    ax.set_title(\"sequence \"+str(n)+\" of SeqTest0.txt\")\n",
    "    ax.imshow(seq_image,interpolation=\"nearest\").set_cmap('gray')  \n",
    "plt.show()"
   ]
  },
  {
   "cell_type": "markdown",
   "metadata": {},
   "source": [
    "### II.3.2 Calcul de vraisemblance et classification"
   ]
  },
  {
   "cell_type": "code",
   "execution_count": 61,
   "metadata": {
    "collapsed": false
   },
   "outputs": [
    {
     "name": "stdout",
     "output_type": "stream",
     "text": [
      "\n",
      "test on SeqText0.txt\n",
      "* logP(seq0/0) =  -29.2049190614\n",
      "* logP(seq0/1) =  -92.7771369456\n",
      "* logP(seq0/7) =  -105.438673464\n",
      "* logP(seq1/0) =  -32.1360665985\n",
      "* logP(seq1/1) =  -88.0612238026\n",
      "* logP(seq1/7) =  -88.9451645173\n",
      "* logP(seq2/0) =  -37.1828615283\n",
      "* logP(seq2/1) =  -58.6067114536\n",
      "* logP(seq2/7) =  -47.2568706724\n",
      "* logP(seq3/0) =  -32.1626099539\n",
      "* logP(seq3/1) =  -117.071502911\n",
      "* logP(seq3/7) =  -114.126350679\n",
      "* logP(seq4/0) =  -48.4869969865\n",
      "* logP(seq4/1) =  -73.2629957164\n",
      "* logP(seq4/7) =  -106.949109588\n",
      "* logP(seq5/0) =  -32.1811997762\n",
      "* logP(seq5/1) =  -78.0572311182\n",
      "* logP(seq5/7) =  -102.869818113\n",
      "* logP(seq6/0) =  -35.2738786967\n",
      "* logP(seq6/1) =  -66.3628267042\n",
      "* logP(seq6/7) =  -62.0650714772\n",
      "* logP(seq7/0) =  -25.0295198921\n",
      "* logP(seq7/1) =  -71.0401571571\n",
      "* logP(seq7/7) =  -83.3099896732\n",
      "* logP(seq8/0) =  -42.3337622851\n",
      "* logP(seq8/1) =  -97.731092609\n",
      "* logP(seq8/7) =  -97.3096913251\n",
      "* logP(seq9/0) =  -21.0257475682\n",
      "* logP(seq9/1) =  -34.5443125353\n",
      "* logP(seq9/7) =  -55.746847805\n",
      "\n",
      "test on SeqText1.txt\n",
      "* logP(seq0/0) =  -69.3222596415\n",
      "* logP(seq0/1) =  -52.0793659638\n",
      "* logP(seq0/7) =  -72.4891196887\n",
      "* logP(seq1/0) =  -20.0374258799\n",
      "* logP(seq1/1) =  -13.072086929\n",
      "* logP(seq1/7) =  -27.9487739018\n",
      "* logP(seq2/0) =  -30.4824059236\n",
      "* logP(seq2/1) =  -22.5969054522\n",
      "* logP(seq2/7) =  -38.4631618527\n",
      "* logP(seq3/0) =  -17.5524913248\n",
      "* logP(seq3/1) =  -12.7884130449\n",
      "* logP(seq3/7) =  -33.9283041967\n",
      "* logP(seq4/0) =  -25.0111425115\n",
      "* logP(seq4/1) =  -12.6128127964\n",
      "* logP(seq4/7) =  -34.4119979891\n",
      "* logP(seq5/0) =  -66.8371849589\n",
      "* logP(seq5/1) =  -43.2475778466\n",
      "* logP(seq5/7) =  -62.8914016958\n",
      "* logP(seq6/0) =  -34.0146920688\n",
      "* logP(seq6/1) =  -28.7088333982\n",
      "* logP(seq6/7) =  -34.5396770031\n",
      "* logP(seq7/0) =  -34.9772658189\n",
      "* logP(seq7/1) =  -30.4018742987\n",
      "* logP(seq7/7) =  -44.2213550234\n",
      "* logP(seq8/0) =  -33.6842812227\n",
      "* logP(seq8/1) =  -17.2417793342\n",
      "* logP(seq8/7) =  -50.1193055759\n",
      "* logP(seq9/0) =  -14.8283383599\n",
      "* logP(seq9/1) =  -10.6244561569\n",
      "* logP(seq9/7) =  -38.9892706301\n",
      "\n",
      "test on SeqText7.txt\n",
      "* logP(seq0/0) =  -88.1886241669\n",
      "* logP(seq0/1) =  -80.0725831876\n",
      "* logP(seq0/7) =  -32.5510276883\n",
      "* logP(seq1/0) =  -53.3122541759\n",
      "* logP(seq1/1) =  -55.0996974347\n",
      "* logP(seq1/7) =  -30.904795074\n",
      "* logP(seq2/0) =  -59.2423666777\n",
      "* logP(seq2/1) =  -41.9777972517\n",
      "* logP(seq2/7) =  -47.3855993657\n",
      "* logP(seq3/0) =  -69.6641692612\n",
      "* logP(seq3/1) =  -71.1976975018\n",
      "* logP(seq3/7) =  -42.2022904829\n",
      "* logP(seq4/0) =  -89.6846854265\n",
      "* logP(seq4/1) =  -57.6668220461\n",
      "* logP(seq4/7) =  -24.0730596381\n",
      "* logP(seq5/0) =  -36.4268419606\n",
      "* logP(seq5/1) =  -56.4079903501\n",
      "* logP(seq5/7) =  -29.4626402069\n",
      "* logP(seq6/0) =  -92.2993390791\n",
      "* logP(seq6/1) =  -75.8267692521\n",
      "* logP(seq6/7) =  -20.8201410935\n",
      "* logP(seq7/0) =  -57.1499285463\n",
      "* logP(seq7/1) =  -49.7992452131\n",
      "* logP(seq7/7) =  -46.1102537103\n",
      "* logP(seq8/0) =  -76.3322504382\n",
      "* logP(seq8/1) =  -77.5012203477\n",
      "* logP(seq8/7) =  -31.5274840934\n",
      "* logP(seq9/0) =  -88.692593383\n",
      "* logP(seq9/1) =  -84.4097400493\n",
      "* logP(seq9/7) =  -25.5409839717\n",
      "\n",
      "* Confusion matrix : \n",
      "[[10  0  0]\n",
      " [ 0 10  0]\n",
      " [ 0  1  9]]\n"
     ]
    },
    {
     "name": "stderr",
     "output_type": "stream",
     "text": [
      "/usr/local/lib/python2.7/dist-packages/ipykernel/__main__.py:7: DeprecationWarning: using a non-integer number instead of an integer will result in an error in the future\n",
      "/usr/local/lib/python2.7/dist-packages/ipykernel/__main__.py:13: DeprecationWarning: using a non-integer number instead of an integer will result in an error in the future\n"
     ]
    }
   ],
   "source": [
    "def vraisemblance(A,B,pi,observation):\n",
    "    T = len(observation)\n",
    "    Q = A.shape[0]\n",
    "    alpha = np.zeros((Q,T))\n",
    "    beta = np.zeros((Q,T))\n",
    "    o = observation[0]\n",
    "    alpha[:,0] = pi*B[o-1,:]\n",
    "    for t,ot in enumerate(observation):\n",
    "        if t!=0:\n",
    "            #print A\n",
    "            #print alpha[:,t-1][:,np.newaxis]\n",
    "            #print A*alpha[:,t-1][:,np.newaxis]\n",
    "            alpha[:,t] = B[ot-1,:]*np.sum(A*alpha[:,t-1][:,np.newaxis],axis=0)\n",
    "    P = np.log(np.sum(alpha[:,T-1]))     \n",
    "    return P\n",
    "\n",
    "labels = [0,1,7]\n",
    "y = np.asarray([])\n",
    "ypredict = np.asarray([])\n",
    "print(\"\\ntest on SeqText0.txt\")\n",
    "for n,seq in enumerate(sequences0):\n",
    "    y = np.append(y,0)\n",
    "    P0 = vraisemblance(A0,B0,pi0,seq)\n",
    "    P1 = vraisemblance(A1,B1,pi1,seq)\n",
    "    P7 = vraisemblance(A7,B7,pi7,seq)\n",
    "    print \"* logP(seq\"+str(n)+\"/0) = \",P0\n",
    "    print \"* logP(seq\"+str(n)+\"/1) = \",P1\n",
    "    print \"* logP(seq\"+str(n)+\"/7) = \",P7\n",
    "    ypredict = np.append(ypredict,labels[np.argmax([P0,P1,P7])])\n",
    "    \n",
    "print(\"\\ntest on SeqText1.txt\")\n",
    "for n,seq in enumerate(sequences1):\n",
    "    y = np.append(y,1)\n",
    "    P0 = vraisemblance(A0,B0,pi0,seq)\n",
    "    P1 = vraisemblance(A1,B1,pi1,seq)\n",
    "    P7 = vraisemblance(A7,B7,pi7,seq)\n",
    "    print \"* logP(seq\"+str(n)+\"/0) = \",P0\n",
    "    print \"* logP(seq\"+str(n)+\"/1) = \",P1\n",
    "    print \"* logP(seq\"+str(n)+\"/7) = \",P7\n",
    "    ypredict = np.append(ypredict,labels[np.argmax([P0,P1,P7])])\n",
    "    \n",
    "print(\"\\ntest on SeqText7.txt\")\n",
    "for n,seq in enumerate(sequences7):\n",
    "    y = np.append(y,7)\n",
    "    P0 = vraisemblance(A0,B0,pi0,seq)\n",
    "    P1 = vraisemblance(A1,B1,pi1,seq)\n",
    "    P7 = vraisemblance(A7,B7,pi7,seq)\n",
    "    print \"* logP(seq\"+str(n)+\"/0) = \",P0\n",
    "    print \"* logP(seq\"+str(n)+\"/1) = \",P1\n",
    "    print \"* logP(seq\"+str(n)+\"/7) = \",P7\n",
    "    ypredict = np.append(ypredict,labels[np.argmax([P0,P1,P7])])\n",
    "    \n",
    "from sklearn.metrics import confusion_matrix\n",
    "\n",
    "print \"\\n* Confusion matrix : \\n\",confusion_matrix(y,ypredict)\n",
    "    \n",
    "\n",
    "            "
   ]
  },
  {
   "cell_type": "code",
   "execution_count": null,
   "metadata": {
    "collapsed": true
   },
   "outputs": [],
   "source": []
  }
 ],
 "metadata": {
  "kernelspec": {
   "display_name": "Python 2",
   "language": "python",
   "name": "python2"
  },
  "language_info": {
   "codemirror_mode": {
    "name": "ipython",
    "version": 2
   },
   "file_extension": ".py",
   "mimetype": "text/x-python",
   "name": "python",
   "nbconvert_exporter": "python",
   "pygments_lexer": "ipython2",
   "version": "2.7.6"
  }
 },
 "nbformat": 4,
 "nbformat_minor": 0
}
