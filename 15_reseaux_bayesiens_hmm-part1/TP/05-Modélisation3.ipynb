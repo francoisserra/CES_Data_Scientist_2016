{
 "cells": [
  {
   "cell_type": "code",
   "execution_count": 21,
   "metadata": {
    "collapsed": true
   },
   "outputs": [],
   "source": [
    "import pyAgrum as gum\n",
    "import pyAgrum.lib.notebook as gnb\n",
    "from pyAgrum.lib.pretty_print import pretty_cpt\n",
    "\n",
    "from IPython.display import display, Math, Latex\n",
    "\n",
    "%matplotlib inline\n",
    "from pylab import *\n",
    "import matplotlib.pyplot as plt"
   ]
  },
  {
   "cell_type": "markdown",
   "metadata": {},
   "source": [
    "# Exercice 5 : détection de fraude à la carte de crédit\n",
    "> from Roland Donat\n",
    "\n",
    "Chaque année, les banques perdent d'importantes sommes d'argents suite aux pertes ou aux vols de cartes de crédit. Pour détecter l'occurrence de fraudes, l'industrie financière se tourne de plus en plus vers l'intelligence artificielle et l'analyse de données pour trouver des solutions à cette problématique. En effet, les propriétaires de carte de crédit ont tendance à faire leurs achats en suivant des schémas plus ou moins identifiables. Quand ce schéma n'est plus respecté, il y a de fortes chances qu'une fraude se soit produite. Les paragraphes suivants donnent des informations générales sur le comportement des propriétaires de carte :\n",
    "\n",
    "+ Quand un propriétaire de carte de crédit voyage à l'étranger, les transactions frauduleuses sont plus probables car les touristes sont des cibles privilégiées pour les voleurs. Plus précisément, on estime que $1\\%$ des transactions sont frauduleuses quand le propriétaire de la carte de crédit est en voyage, contre seulement $0.2\\%$ de transactions frauduleuses à domicile. En moyenne, $5\\%$ de toutes les transactions se produisent au cours de voyages à l'étranger.\n",
    "+ Si une transaction est frauduleuse, alors la probabilité qu'il s'agisse d'un achat à l'étranger augmente, sauf si le propriétaire de la carte est précisément en voyage à l'étranger. Statistiquement, quand le propriétaire de la carte n'est pas en voyage, $10\\%$ des transactions frauduleuse concernent un achat à l'étranger alors que seulement 1% des transactions normales portent sur un achat à l'étranger. En revanche, quand le propriétaire est en voyage à l'étranger, $90\\%$ des transactions (frauduleuses ou non) sont des achats à l'étranger.\n",
    "+ Les achats réalisés sur internet sont plus souvent frauduleux. Ceci est particulièrement vrai pour les propriétaires de carte n'ayant pas d'ordinateur. En effet :\n",
    "    + Pour ceux qui ne possèdent pas d'ordinateur, seulement $0.1\\%$ de leurs transactions normales sont faites sur internet. Ce chiffre monte à $1.1\\%$ en cas de transactions frauduleuses. \n",
    "    + Pour les possesseurs d'ordinateur, $1\\%$ des transactions normales a lieu sur internet. En revanche, ce pourcentage s'élève à $2\\%$ lors de transactions frauduleuses.\n",
    "    + On estime aujourd'hui que $75\\%$ de la population possède un ordinateur\n",
    "+ Malheureusement, les banques ne savent pas si le propriétaire d'une carte possède un ordinateur. Toutefois, ces dernières peuvent vérifier l'historique des transactions afin de rechercher si des achats liés à du matériel informatique ont été effectués dernièrement. En particulier, on estime que $10\\%$ des propriétaires d'ordinateur ont fait des achats en rapport avec l'informatique dernièrement contre $0.1\\%$ pour ceux ne possédant pas d'ordinateur.\n"
   ]
  },
  {
   "cell_type": "markdown",
   "metadata": {},
   "source": [
    "Construire un BN (graphe et TPC) visant à détecter des transactions frauduleuses. Le BN sera composé des 6 variables booléennes suivantes :\n",
    "\n",
    "    FR : la transaction courante est frauduleuse.\n",
    "    VE : le propriétaire de la carte est actuellement en voyage à l'étranger.\n",
    "    AE : la transaction courante concerne un achat à l'étranger.\n",
    "    AI : la transaction courante concerne un achat sur internet.\n",
    "    PO : le propriétaire de la carte a un ordinateur.\n",
    "    AOD : un achat lié à l'informatique a été effectué dernièrement.\n"
   ]
  },
  {
   "cell_type": "code",
   "execution_count": 22,
   "metadata": {
    "collapsed": false
   },
   "outputs": [
    {
     "data": {
      "text/html": [
       "<div align='center'><svg height=\"188pt\" viewBox=\"0.00 0.00 213.55 188.00\" width=\"214pt\" xmlns=\"http://www.w3.org/2000/svg\" xmlns:xlink=\"http://www.w3.org/1999/xlink\">\n",
       "<g class=\"graph\" id=\"graph0\" transform=\"scale(1 1) rotate(0) translate(4 184)\">\n",
       "<title>G</title>\n",
       "<polygon fill=\"white\" points=\"-4,4 -4,-184 209.547,-184 209.547,4 -4,4\" stroke=\"none\"/>\n",
       "<!-- FR -->\n",
       "<g class=\"node\" id=\"node1\"><title>FR</title>\n",
       "<g id=\"a_node1\"><a xlink:title=\"(0) FR\">\n",
       "<ellipse cx=\"82\" cy=\"-90\" fill=\"#444444\" rx=\"27\" ry=\"18\" stroke=\"black\"/>\n",
       "<text fill=\"#ffffff\" font-family=\"Times,serif\" font-size=\"14.00\" text-anchor=\"middle\" x=\"82\" y=\"-86.3\">FR</text>\n",
       "</a>\n",
       "</g>\n",
       "</g>\n",
       "<!-- AE -->\n",
       "<g class=\"node\" id=\"node3\"><title>AE</title>\n",
       "<g id=\"a_node3\"><a xlink:title=\"(2) AE\">\n",
       "<ellipse cx=\"27\" cy=\"-18\" fill=\"#444444\" rx=\"27\" ry=\"18\" stroke=\"black\"/>\n",
       "<text fill=\"#ffffff\" font-family=\"Times,serif\" font-size=\"14.00\" text-anchor=\"middle\" x=\"27\" y=\"-14.3\">AE</text>\n",
       "</a>\n",
       "</g>\n",
       "</g>\n",
       "<!-- FR&#45;&gt;AE -->\n",
       "<g class=\"edge\" id=\"edge3\"><title>FR-&gt;AE</title>\n",
       "<path d=\"M70.0658,-73.811C62.7864,-64.5464 53.3374,-52.5203 45.1456,-42.0944\" fill=\"none\" stroke=\"black\"/>\n",
       "<polygon fill=\"black\" points=\"47.8413,-39.8601 38.9109,-34.1593 42.337,-44.1849 47.8413,-39.8601\" stroke=\"black\"/>\n",
       "</g>\n",
       "<!-- AI -->\n",
       "<g class=\"node\" id=\"node4\"><title>AI</title>\n",
       "<g id=\"a_node4\"><a xlink:title=\"(3) AI\">\n",
       "<ellipse cx=\"99\" cy=\"-18\" fill=\"#444444\" rx=\"27\" ry=\"18\" stroke=\"black\"/>\n",
       "<text fill=\"#ffffff\" font-family=\"Times,serif\" font-size=\"14.00\" text-anchor=\"middle\" x=\"99\" y=\"-14.3\">AI</text>\n",
       "</a>\n",
       "</g>\n",
       "</g>\n",
       "<!-- FR&#45;&gt;AI -->\n",
       "<g class=\"edge\" id=\"edge4\"><title>FR-&gt;AI</title>\n",
       "<path d=\"M86.1152,-72.055C88.0081,-64.2609 90.3004,-54.8219 92.4237,-46.0789\" fill=\"none\" stroke=\"black\"/>\n",
       "<polygon fill=\"black\" points=\"95.8457,-46.8189 94.8046,-36.2753 89.0434,-45.1668 95.8457,-46.8189\" stroke=\"black\"/>\n",
       "</g>\n",
       "<!-- VE -->\n",
       "<g class=\"node\" id=\"node2\"><title>VE</title>\n",
       "<g id=\"a_node2\"><a xlink:title=\"(1) VE\">\n",
       "<ellipse cx=\"54\" cy=\"-162\" fill=\"#444444\" rx=\"27\" ry=\"18\" stroke=\"black\"/>\n",
       "<text fill=\"#ffffff\" font-family=\"Times,serif\" font-size=\"14.00\" text-anchor=\"middle\" x=\"54\" y=\"-158.3\">VE</text>\n",
       "</a>\n",
       "</g>\n",
       "</g>\n",
       "<!-- VE&#45;&gt;FR -->\n",
       "<g class=\"edge\" id=\"edge2\"><title>VE-&gt;FR</title>\n",
       "<path d=\"M60.6356,-144.411C63.9134,-136.216 67.9442,-126.14 71.6181,-116.955\" fill=\"none\" stroke=\"black\"/>\n",
       "<polygon fill=\"black\" points=\"74.9477,-118.055 75.412,-107.47 68.4484,-115.455 74.9477,-118.055\" stroke=\"black\"/>\n",
       "</g>\n",
       "<!-- VE&#45;&gt;AE -->\n",
       "<g class=\"edge\" id=\"edge6\"><title>VE-&gt;AE</title>\n",
       "<path d=\"M50.7432,-143.871C46.1415,-119.67 37.688,-75.2108 32.2086,-46.3932\" fill=\"none\" stroke=\"black\"/>\n",
       "<polygon fill=\"black\" points=\"35.5748,-45.3594 30.2684,-36.1893 28.698,-46.6671 35.5748,-45.3594\" stroke=\"black\"/>\n",
       "</g>\n",
       "<!-- PO -->\n",
       "<g class=\"node\" id=\"node5\"><title>PO</title>\n",
       "<g id=\"a_node5\"><a xlink:title=\"(4) PO\">\n",
       "<ellipse cx=\"164\" cy=\"-90\" fill=\"#444444\" rx=\"27\" ry=\"18\" stroke=\"black\"/>\n",
       "<text fill=\"#ffffff\" font-family=\"Times,serif\" font-size=\"14.00\" text-anchor=\"middle\" x=\"164\" y=\"-86.3\">PO</text>\n",
       "</a>\n",
       "</g>\n",
       "</g>\n",
       "<!-- PO&#45;&gt;AI -->\n",
       "<g class=\"edge\" id=\"edge1\"><title>PO-&gt;AI</title>\n",
       "<path d=\"M150.215,-74.1548C141.339,-64.5957 129.637,-51.994 119.66,-41.2493\" fill=\"none\" stroke=\"black\"/>\n",
       "<polygon fill=\"black\" points=\"122.134,-38.7702 112.765,-33.8238 117.005,-43.5334 122.134,-38.7702\" stroke=\"black\"/>\n",
       "</g>\n",
       "<!-- AOD -->\n",
       "<g class=\"node\" id=\"node6\"><title>AOD</title>\n",
       "<g id=\"a_node6\"><a xlink:title=\"(5) AOD\">\n",
       "<ellipse cx=\"175\" cy=\"-18\" fill=\"#444444\" rx=\"30.5947\" ry=\"18\" stroke=\"black\"/>\n",
       "<text fill=\"#ffffff\" font-family=\"Times,serif\" font-size=\"14.00\" text-anchor=\"middle\" x=\"175\" y=\"-14.3\">AOD</text>\n",
       "</a>\n",
       "</g>\n",
       "</g>\n",
       "<!-- PO&#45;&gt;AOD -->\n",
       "<g class=\"edge\" id=\"edge5\"><title>PO-&gt;AOD</title>\n",
       "<path d=\"M166.663,-72.055C167.874,-64.3456 169.339,-55.0269 170.7,-46.3642\" fill=\"none\" stroke=\"black\"/>\n",
       "<polygon fill=\"black\" points=\"174.19,-46.6974 172.285,-36.2753 167.275,-45.6107 174.19,-46.6974\" stroke=\"black\"/>\n",
       "</g>\n",
       "</g>\n",
       "</svg></div>"
      ],
      "text/plain": [
       "<IPython.core.display.HTML object>"
      ]
     },
     "metadata": {},
     "output_type": "display_data"
    }
   ],
   "source": [
    "bn = gum.BayesNet()\n",
    "# définition des variables\n",
    "fr = bn.add(gum.LabelizedVariable(\"FR\",\"\",0).addLabel(\"O\").addLabel(\"N\")) \n",
    "ve = bn.add(gum.LabelizedVariable(\"VE\",\"\",0).addLabel(\"O\").addLabel(\"N\"))\n",
    "ae = bn.add(gum.LabelizedVariable(\"AE\",\"\",0).addLabel(\"O\").addLabel(\"N\"))\n",
    "ai = bn.add(gum.LabelizedVariable(\"AI\",\"\",0).addLabel(\"O\").addLabel(\"N\"))\n",
    "po = bn.add(gum.LabelizedVariable(\"PO\",\"\",0).addLabel(\"O\").addLabel(\"N\")) \n",
    "aod = bn.add(gum.LabelizedVariable(\"AOD\",\"\",0).addLabel(\"O\").addLabel(\"N\"))  \n",
    "\n",
    "# définition des arcs\n",
    "bn.addArc(ve,fr)\n",
    "\n",
    "bn.addArc(ve,ae)\n",
    "bn.addArc(fr,ae)\n",
    "\n",
    "bn.addArc(po,ai)\n",
    "bn.addArc(fr,ai)\n",
    "\n",
    "bn.addArc(po,aod)\n",
    "\n",
    "gnb.showBN(bn)\n",
    "\n",
    "bn.cpt(ve).fillWith([0.05,0.95])\n",
    "bn.cpt(po).fillWith([0.75,0.25])\n",
    "\n",
    "bn.cpt(fr)[{\"VE\":\"O\"}] = [0.01,0.99]\n",
    "bn.cpt(fr)[{\"VE\":\"N\"}] = [0.002,0.998]\n",
    "                          \n",
    "bn.cpt(ae)[{\"VE\":\"N\",\"FR\":\"O\"}] = [0.1,0.9]\n",
    "bn.cpt(ae)[{\"VE\":\"N\",\"FR\":\"N\"}] = [0.01,0.99]\n",
    "bn.cpt(ae)[{\"VE\":\"O\",\"FR\":\"O\"}] = [0.9,0.1]\n",
    "bn.cpt(ae)[{\"VE\":\"O\",\"FR\":\"N\"}] = [0.9,0.1]\n",
    "\n",
    "bn.cpt(ai)[{\"PO\":\"N\",\"FR\":\"N\"}] = [0.001,0.999]\n",
    "bn.cpt(ai)[{\"PO\":\"N\",\"FR\":\"O\"}] = [0.011,0.989]\n",
    "bn.cpt(ai)[{\"PO\":\"O\",\"FR\":\"N\"}] = [0.01,0.99]\n",
    "bn.cpt(ai)[{\"PO\":\"O\",\"FR\":\"O\"}] = [0.02,0.98]\n",
    "\n",
    "bn.cpt(aod)[{\"PO\":\"O\"}] = [0.1,0.9]\n",
    "bn.cpt(aod)[{\"PO\":\"N\"}] = [0.001,0.999]"
   ]
  },
  {
   "cell_type": "markdown",
   "metadata": {},
   "source": [
    "## Inférence\n",
    "\n",
    "Quelle est la probabilité a priori qu'une transaction soit frauduleuse?"
   ]
  },
  {
   "cell_type": "code",
   "execution_count": 23,
   "metadata": {
    "collapsed": false
   },
   "outputs": [
    {
     "data": {
      "image/png": "[encoded data removed]",
      "text/plain": [
       "<matplotlib.figure.Figure at 0x7f94c68c9a20>"
      ]
     },
     "metadata": {},
     "output_type": "display_data"
    }
   ],
   "source": [
    "ie = gum.LazyPropagation(bn)\n",
    "ie.makeInference()\n",
    "gnb.showProba(ie.posterior(fr))\n"
   ]
  },
  {
   "cell_type": "markdown",
   "metadata": {},
   "source": [
    "## Première optimisation\n",
    "\n",
    "Supposons à présent que vous ayez volé une carte de crédit - attention c'est mal ! -. Supposons de plus que vous connaissez les réseaux bayésiens et que vous savez que la banque du propriétaire de la carte utilise le système de détection de fraudes reposant sur le RB décrit précédemment. Malgré tout cela, vous souhaitez quand même faire un achat sur internet avec la carte volée, quelle(s) action(s) pouvez vous effectuer afin de réduire le risque que votre transaction soit rejetée? De combien pouvez vous faire baisser la probabilité que la transaction soit considérée comme frauduleuse ?"
   ]
  },
  {
   "cell_type": "code",
   "execution_count": 38,
   "metadata": {
    "collapsed": false
   },
   "outputs": [
    {
     "data": {
      "image/png": "[encoded data removed]",
      "text/plain": [
       "<matplotlib.figure.Figure at 0x7f94c68c9208>"
      ]
     },
     "metadata": {},
     "output_type": "display_data"
    }
   ],
   "source": [
    "ie.setEvidence({\"AE\":\"N\",\"VE\":\"N\"})\n",
    "ie.makeInference()\n",
    "gnb.showProba(ie.posterior(fr))"
   ]
  },
  {
   "cell_type": "markdown",
   "metadata": {},
   "source": [
    "=> ne pas partir en voyage et ne pas faire d'achat à l'étranger fait legèrement baisser la probabilité"
   ]
  },
  {
   "cell_type": "code",
   "execution_count": null,
   "metadata": {
    "collapsed": true
   },
   "outputs": [],
   "source": []
  }
 ],
 "metadata": {
  "kernelspec": {
   "display_name": "Python 3",
   "language": "python",
   "name": "python3"
  },
  "language_info": {
   "codemirror_mode": {
    "name": "ipython",
    "version": 3
   },
   "file_extension": ".py",
   "mimetype": "text/x-python",
   "name": "python",
   "nbconvert_exporter": "python",
   "pygments_lexer": "ipython3",
   "version": "3.5.1"
  }
 },
 "nbformat": 4,
 "nbformat_minor": 0
}
