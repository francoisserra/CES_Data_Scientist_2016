{
 "cells": [
  {
   "cell_type": "code",
   "execution_count": 40,
   "metadata": {
    "collapsed": true
   },
   "outputs": [],
   "source": [
    "import pyAgrum as gum\n",
    "import pyAgrum.lib.notebook as gnb\n",
    "from pyAgrum.lib.pretty_print import pretty_cpt\n",
    "\n",
    "from IPython.display import display, Math, Latex\n",
    "\n",
    "%matplotlib inline\n",
    "from pylab import *\n",
    "import matplotlib.pyplot as plt"
   ]
  },
  {
   "cell_type": "markdown",
   "metadata": {},
   "source": [
    "# Hector le robot jongleur\n",
    ">from Roland Donat\n",
    "\n",
    "Hector, le robot jongleur, lâche souvent les balles avec lesquelles il jongle quand sa batterie est faible. D'après les expériences précédentes, il a été déterminé que la probabilité qu'il lâche une balle quand sa batterie est faible est de $0.9$. D'autre part, quand sa batterie n'est pas faible, la probabilité qu'il lâche une balle est seulement de $0.01$. Quand la batterie a été rechargée il y a peu de temps, il y a seulement $5\\%$ de chances que la batterie soit faible contre $50\\%$ si la batterie n'a pas été rechargée récemment. \n",
    "\n",
    "Un premier système de vision $O1$ (peu fiable) observe le robot et nous prévient lorsqu'il croit que Hector a lâché une balle. Un autre système $O2$ (indépendant du premier) agit de la même façon. Le but de cet exercice est de modéliser les résultats des observateurs en fonction de ce que fait Hector et de son état. "
   ]
  },
  {
   "cell_type": "markdown",
   "metadata": {},
   "source": [
    "## Structure du réseau bayésien\n",
    "\n",
    "Construire un BN pour ce problème en considérant :\n",
    "\n",
    "+ Quelles variables (booléenne) de modélisation ?\n",
    "\n",
    "    * R : batterie rechargée\n",
    "\n",
    "    * B : batterie faible\n",
    "\n",
    "    * L : le robot a laché un ballon\n",
    "\n",
    "    * O1 : l'observateur 1 voit un ballon laché par le robot\n",
    "\n",
    "    * O2 : l'observateur 2 voit un ballon laché par le robot\n",
    "\n",
    "+ Quelle structure ?\n",
    "    * R->B->L\n",
    "    * L-> O1\n",
    "    * L-> O2\n",
    "+ Quelle est la forme de la distribution de probabilité jointe pour ce BN\n",
    "    * P(R,B,L,O1,O2) = P(R)P(B/R)P(L,B)P(O1/L)P(O2/L)\n",
    "+ $O1$ et $O2$ sont ils indépendantes ? A quelle condition deviennent-elles indépéndantes ?\n",
    "    * le seul chemin reliant O1 et O2 (O1<-L->O2) n'est pas un chemin bloqué pour l'indépendance de O1 et O2, donc O1 et O2 ne sont pas indépendants.\n",
    "    * si on connait L, alors le chemin est bloqué entre O1 et O2, et on a alors O1 indépendant de O2 (sachant L)"
   ]
  },
  {
   "cell_type": "markdown",
   "metadata": {},
   "source": [
    "## Paramètres du réseau bayésien\n",
    "\n",
    "Proposer les CPTs pour le BN. Quelle données vous manque-t-il pour avoir l'ensemble du modèle bien renseigné ?\n",
    "* il va manquer les tables de propriétés conditionnelles de O1/L et O2/L"
   ]
  },
  {
   "cell_type": "code",
   "execution_count": 49,
   "metadata": {
    "collapsed": false
   },
   "outputs": [
    {
     "data": {
      "text/html": [
       "<div align='center'><svg height=\"260pt\" viewBox=\"0.00 0.00 134.00 260.00\" width=\"134pt\" xmlns=\"http://www.w3.org/2000/svg\" xmlns:xlink=\"http://www.w3.org/1999/xlink\">\n",
       "<g class=\"graph\" id=\"graph0\" transform=\"scale(1 1) rotate(0) translate(4 256)\">\n",
       "<title>G</title>\n",
       "<polygon fill=\"white\" points=\"-4,4 -4,-256 130,-256 130,4 -4,4\" stroke=\"none\"/>\n",
       "<!-- O1 -->\n",
       "<g class=\"node\" id=\"node1\"><title>O1</title>\n",
       "<g id=\"a_node1\"><a xlink:title=\"(0) O1\">\n",
       "<ellipse cx=\"27\" cy=\"-18\" fill=\"#444444\" rx=\"27\" ry=\"18\" stroke=\"black\"/>\n",
       "<text fill=\"#ffffff\" font-family=\"Times,serif\" font-size=\"14.00\" text-anchor=\"middle\" x=\"27\" y=\"-14.3\">O1</text>\n",
       "</a>\n",
       "</g>\n",
       "</g>\n",
       "<!-- O2 -->\n",
       "<g class=\"node\" id=\"node2\"><title>O2</title>\n",
       "<g id=\"a_node2\"><a xlink:title=\"(1) O2\">\n",
       "<ellipse cx=\"99\" cy=\"-18\" fill=\"#444444\" rx=\"27\" ry=\"18\" stroke=\"black\"/>\n",
       "<text fill=\"#ffffff\" font-family=\"Times,serif\" font-size=\"14.00\" text-anchor=\"middle\" x=\"99\" y=\"-14.3\">O2</text>\n",
       "</a>\n",
       "</g>\n",
       "</g>\n",
       "<!-- B -->\n",
       "<g class=\"node\" id=\"node3\"><title>B</title>\n",
       "<g id=\"a_node3\"><a xlink:title=\"(2) B\">\n",
       "<ellipse cx=\"63\" cy=\"-162\" fill=\"#444444\" rx=\"27\" ry=\"18\" stroke=\"black\"/>\n",
       "<text fill=\"#ffffff\" font-family=\"Times,serif\" font-size=\"14.00\" text-anchor=\"middle\" x=\"63\" y=\"-158.3\">B</text>\n",
       "</a>\n",
       "</g>\n",
       "</g>\n",
       "<!-- L -->\n",
       "<g class=\"node\" id=\"node4\"><title>L</title>\n",
       "<g id=\"a_node4\"><a xlink:title=\"(3) L\">\n",
       "<ellipse cx=\"63\" cy=\"-90\" fill=\"#444444\" rx=\"27\" ry=\"18\" stroke=\"black\"/>\n",
       "<text fill=\"#ffffff\" font-family=\"Times,serif\" font-size=\"14.00\" text-anchor=\"middle\" x=\"63\" y=\"-86.3\">L</text>\n",
       "</a>\n",
       "</g>\n",
       "</g>\n",
       "<!-- B&#45;&gt;L -->\n",
       "<g class=\"edge\" id=\"edge3\"><title>B-&gt;L</title>\n",
       "<path d=\"M63,-143.697C63,-135.983 63,-126.712 63,-118.112\" fill=\"none\" stroke=\"black\"/>\n",
       "<polygon fill=\"black\" points=\"66.5001,-118.104 63,-108.104 59.5001,-118.104 66.5001,-118.104\" stroke=\"black\"/>\n",
       "</g>\n",
       "<!-- L&#45;&gt;O1 -->\n",
       "<g class=\"edge\" id=\"edge1\"><title>L-&gt;O1</title>\n",
       "<path d=\"M54.6504,-72.7646C50.2885,-64.2831 44.8531,-53.7144 39.9587,-44.1974\" fill=\"none\" stroke=\"black\"/>\n",
       "<polygon fill=\"black\" points=\"42.9904,-42.4395 35.3043,-35.1473 36.7654,-45.6409 42.9904,-42.4395\" stroke=\"black\"/>\n",
       "</g>\n",
       "<!-- L&#45;&gt;O2 -->\n",
       "<g class=\"edge\" id=\"edge2\"><title>L-&gt;O2</title>\n",
       "<path d=\"M71.3496,-72.7646C75.7115,-64.2831 81.1469,-53.7144 86.0413,-44.1974\" fill=\"none\" stroke=\"black\"/>\n",
       "<polygon fill=\"black\" points=\"89.2346,-45.6409 90.6957,-35.1473 83.0096,-42.4395 89.2346,-45.6409\" stroke=\"black\"/>\n",
       "</g>\n",
       "<!-- R -->\n",
       "<g class=\"node\" id=\"node5\"><title>R</title>\n",
       "<g id=\"a_node5\"><a xlink:title=\"(4) R\">\n",
       "<ellipse cx=\"63\" cy=\"-234\" fill=\"#444444\" rx=\"27\" ry=\"18\" stroke=\"black\"/>\n",
       "<text fill=\"#ffffff\" font-family=\"Times,serif\" font-size=\"14.00\" text-anchor=\"middle\" x=\"63\" y=\"-230.3\">R</text>\n",
       "</a>\n",
       "</g>\n",
       "</g>\n",
       "<!-- R&#45;&gt;B -->\n",
       "<g class=\"edge\" id=\"edge4\"><title>R-&gt;B</title>\n",
       "<path d=\"M63,-215.697C63,-207.983 63,-198.712 63,-190.112\" fill=\"none\" stroke=\"black\"/>\n",
       "<polygon fill=\"black\" points=\"66.5001,-190.104 63,-180.104 59.5001,-190.104 66.5001,-190.104\" stroke=\"black\"/>\n",
       "</g>\n",
       "</g>\n",
       "</svg></div>"
      ],
      "text/plain": [
       "<IPython.core.display.HTML object>"
      ]
     },
     "metadata": {},
     "output_type": "display_data"
    }
   ],
   "source": [
    "bn = gum.BayesNet()\n",
    "# définition des variables\n",
    "o1 = gum.LabelizedVariable(\"O1\",\"\",0).addLabel(\"O\").addLabel(\"N\") # o1 observe un lacher du ballon\n",
    "o2 = gum.LabelizedVariable(\"O2\",\"\",0).addLabel(\"O\").addLabel(\"N\") \n",
    "b = gum.LabelizedVariable(\"B\",\"\",0).addLabel(\"O\").addLabel(\"N\") # batterie faible\n",
    "l = gum.LabelizedVariable(\"L\",\"\",0).addLabel(\"O\").addLabel(\"N\") # le robot a laché le ballon\n",
    "r = gum.LabelizedVariable(\"R\",\"\",0).addLabel(\"O\").addLabel(\"N\")  # la batterie a été rechargé récemment\n",
    "oo1 = bn.add(o1)\n",
    "oo2 = bn.add(o2)\n",
    "bb = bn.add(b)\n",
    "ll = bn.add(l)\n",
    "rr = bn.add(r)\n",
    "# définition des arcs\n",
    "bn.addArc(ll,oo1)\n",
    "bn.addArc(ll,oo2)\n",
    "bn.addArc(bb,ll)\n",
    "bn.addArc(rr,bb)\n",
    "gnb.showBN(bn)\n",
    "# defintion des probabilités a priori\n",
    "bn.cpt(rr).fillWith([0.5,0.5])\n",
    "bn.cpt(bb)[{\"R\":\"O\"}] = [0.05,0.95]\n",
    "bn.cpt(bb)[{\"R\":\"N\"}] = [0.5,0.5]\n",
    "bn.cpt(ll)[{\"B\": \"O\"}] = [0.9,0.1]\n",
    "bn.cpt(ll)[{\"B\": \"N\"}] = [0.01,0.99]"
   ]
  },
  {
   "cell_type": "markdown",
   "metadata": {},
   "source": [
    "## inférence dans le réseau bayésien\n",
    "\n",
    "On suppose maintenant que la fiabilité des observateurs $O1$ et $O2$ est de respectivement $70\\%$ et $90\\%$."
   ]
  },
  {
   "cell_type": "code",
   "execution_count": 50,
   "metadata": {
    "collapsed": true
   },
   "outputs": [],
   "source": [
    "bn.cpt(oo1)[{\"L\":\"O\"}] = [0.7,0.3]\n",
    "bn.cpt(oo1)[{\"L\":\"N\"}] = [0.3,0.7]\n",
    "\n",
    "bn.cpt(oo2)[{\"L\":\"O\"}] = [0.9,0.1]\n",
    "bn.cpt(oo2)[{\"L\":\"N\"}] = [0.1,0.9]"
   ]
  },
  {
   "cell_type": "markdown",
   "metadata": {},
   "source": [
    "\n",
    "+ Calculer la probabilité a priori de chaque nœud"
   ]
  },
  {
   "cell_type": "code",
   "execution_count": 56,
   "metadata": {
    "collapsed": false
   },
   "outputs": [
    {
     "name": "stdout",
     "output_type": "stream",
     "text": [
      "probabilités a priori des variables :\n"
     ]
    },
    {
     "data": {
      "image/png": "[encoded data removed]",
      "text/plain": [
       "<matplotlib.figure.Figure at 0x7f3df71c6048>"
      ]
     },
     "metadata": {},
     "output_type": "display_data"
    },
    {
     "data": {
      "image/png": "[encoded data removed]",
      "text/plain": [
       "<matplotlib.figure.Figure at 0x7f3df7577ac8>"
      ]
     },
     "metadata": {},
     "output_type": "display_data"
    },
    {
     "data": {
      "image/png": "[encoded data removed]",
      "text/plain": [
       "<matplotlib.figure.Figure at 0x7f3df6fefef0>"
      ]
     },
     "metadata": {},
     "output_type": "display_data"
    },
    {
     "data": {
      "image/png": "[encoded data removed]",
      "text/plain": [
       "<matplotlib.figure.Figure at 0x7f3df6f11b38>"
      ]
     },
     "metadata": {},
     "output_type": "display_data"
    },
    {
     "data": {
      "image/png": "[encoded data removed]",
      "text/plain": [
       "<matplotlib.figure.Figure at 0x7f3df709bc88>"
      ]
     },
     "metadata": {},
     "output_type": "display_data"
    }
   ],
   "source": [
    "ie = gum.LazyPropagation(bn)\n",
    "print(\"probabilités a priori des variables :\")\n",
    "ie.makeInference()\n",
    "\n",
    "gnb.showProba(ie.posterior(rr))\n",
    "gnb.showProba(ie.posterior(bb))\n",
    "gnb.showProba(ie.posterior(ll))\n",
    "gnb.showProba(ie.posterior(oo1))\n",
    "gnb.showProba(ie.posterior(oo2))"
   ]
  },
  {
   "cell_type": "markdown",
   "metadata": {
    "collapsed": true
   },
   "source": [
    "\n",
    "+ $O1$ observe que Hector a lâché la balle. Quelle est la probabilité que la batterie soit faible ? Comparer cette valeur avec sa probabilité à priori.\n"
   ]
  },
  {
   "cell_type": "code",
   "execution_count": 57,
   "metadata": {
    "collapsed": false
   },
   "outputs": [
    {
     "data": {
      "image/png": "[encoded data removed]",
      "text/plain": [
       "<matplotlib.figure.Figure at 0x7f3df72170b8>"
      ]
     },
     "metadata": {},
     "output_type": "display_data"
    }
   ],
   "source": [
    "ie = gum.LazyPropagation(bn)\n",
    "ie.setEvidence({'O1':\"O\"})\n",
    "ie.makeInference()\n",
    "gnb.showProba(ie.posterior(bb))"
   ]
  },
  {
   "cell_type": "markdown",
   "metadata": {},
   "source": [
    "=> la probabilité que la batterie soit faible est maintenant plus forte car via O1, on a l'information plutôt fiable qu'un ballon a été laché et que donc la robot n'est pas bien chargé."
   ]
  },
  {
   "cell_type": "markdown",
   "metadata": {},
   "source": [
    "+ On ajoute que $O2$ n'a rien vu. Quelle est la nouvelle probabilité que la batterie soit faible ?"
   ]
  },
  {
   "cell_type": "code",
   "execution_count": 58,
   "metadata": {
    "collapsed": false
   },
   "outputs": [
    {
     "data": {
      "image/png": "[encoded data removed]",
      "text/plain": [
       "<matplotlib.figure.Figure at 0x7f3e231acfd0>"
      ]
     },
     "metadata": {},
     "output_type": "display_data"
    }
   ],
   "source": [
    "#ie = gum.LazyPropagation(bn)\n",
    "ie.setEvidence({'O1':\"O\",\"O2\":\"N\"})\n",
    "ie.makeInference()\n",
    "gnb.showProba(ie.posterior(bb))"
   ]
  },
  {
   "cell_type": "markdown",
   "metadata": {},
   "source": [
    "=> Cette fois, c'est l'inverse : la probabilité est maintenant bien plus faible car via O2, on a l'information très fiable qu'un ballon n'a pas été laché et que donc le robot est bien chargé, cela en dépit de l'observation contraire de O1, observation qui patit de sa fiabilité plus faible.\n",
    "D'ailleurs, si O1 n'avait rien vu non plus, la probabilité serait encore plus forte que la batterie est bien chargé:"
   ]
  },
  {
   "cell_type": "code",
   "execution_count": 64,
   "metadata": {
    "collapsed": false
   },
   "outputs": [
    {
     "data": {
      "image/png": "[encoded data removed]",
      "text/plain": [
       "<matplotlib.figure.Figure at 0x7f3df7017b00>"
      ]
     },
     "metadata": {},
     "output_type": "display_data"
    }
   ],
   "source": [
    "#ie = gum.LazyPropagation(bn)\n",
    "ie.setEvidence({\"O1\":\"N\",\"O2\":\"N\"})\n",
    "ie.makeInference()\n",
    "gnb.showProba(ie.posterior(bb))"
   ]
  }
 ],
 "metadata": {
  "kernelspec": {
   "display_name": "Python 3",
   "language": "python",
   "name": "python3"
  },
  "language_info": {
   "codemirror_mode": {
    "name": "ipython",
    "version": 3
   },
   "file_extension": ".py",
   "mimetype": "text/x-python",
   "name": "python",
   "nbconvert_exporter": "python",
   "pygments_lexer": "ipython3",
   "version": "3.5.1"
  }
 },
 "nbformat": 4,
 "nbformat_minor": 0
}
