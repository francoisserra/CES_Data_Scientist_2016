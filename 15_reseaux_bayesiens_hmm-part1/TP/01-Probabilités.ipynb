{
 "cells": [
  {
   "cell_type": "code",
   "execution_count": 3,
   "metadata": {
    "collapsed": false
   },
   "outputs": [],
   "source": [
    "import pyAgrum as gum\n",
    "import pyAgrum.lib.notebook as gnb\n",
    "from pyAgrum.lib.pretty_print import pretty_cpt\n",
    "\n",
    "from IPython.display import display, Math, Latex"
   ]
  },
  {
   "cell_type": "markdown",
   "metadata": {},
   "source": [
    "# Daltonisme bayésien\n",
    "\n",
    "Environ 8% des hommes et 0.5% des femmes sont, à des degrés divers, daltoniens."
   ]
  },
  {
   "cell_type": "markdown",
   "metadata": {},
   "source": [
    "## Question 1\n",
    "\n",
    "Calculer le pourcentage de femmes parmi les daltoniens (en ajoutant une hypothèse a priori que vous préciserez)"
   ]
  },
  {
   "cell_type": "markdown",
   "metadata": {
    "collapsed": false
   },
   "source": [
    "g = Genre\n",
    "\n",
    "D = Daltonisme\n",
    "\n",
    "P(g/D) = P(g,D)/P(D) = P(D/g).P(g)/P(D) = P(D/g).P(g)/(P(D/g=h).P(g=h)+P(D/g=f).P(g=f))\n",
    "\n",
    "avec:\n",
    "\n",
    "P(D=1/g=h) = 0.08\n",
    "\n",
    "P(D=1/g=f) = 0.005\n",
    "\n",
    "on a besoin ds probas a priori :\n",
    "\n",
    "P(g=h) = 0.48\n",
    "\n",
    "p(g=f) = 0.52\n",
    "\n",
    "donc \n",
    "\n",
    "P(g=f/D=1) = P(D=1/g=f).P(g=f)/(P(D=1/g=h).P(g=h)+P(D=1/g=f).P(g=f)) = 0.005\\*0.52/(0.08\\*0.48+0.005\\*0.52)"
   ]
  },
  {
   "cell_type": "code",
   "execution_count": 36,
   "metadata": {
    "collapsed": false
   },
   "outputs": [
    {
     "name": "stdout",
     "output_type": "stream",
     "text": [
      "P(g=f/D=1)= 0.06341463414634148\n",
      "   |---------------|\n",
      "---|       D       |\n",
      " G |   O      N    |\n",
      "---|---------------|\n",
      " H | 0.0800 0.9200 |\n",
      " F | 0.0050 0.9950 |\n",
      "---|---------------|\n",
      "|---------------|\n",
      "|       G       |\n",
      "|   H      F    |\n",
      "|---------------|\n",
      "| 0.4800 0.5200 |\n",
      "|---------------|\n",
      "   |---------------|\n",
      "---|       G       |\n",
      " D |   H      F    |\n",
      "---|---------------|\n",
      " O | 0.0384 0.0026 |\n",
      " N | 0.4416 0.5174 |\n",
      "---|---------------|\n",
      "|---------------|\n",
      "|       D       |\n",
      "|   O      N    |\n",
      "|---------------|\n",
      "| 0.0410 0.9590 |\n",
      "|---------------|\n",
      "   |---------------|\n",
      "---|       D       |\n",
      " G |   O      N    |\n",
      "---|---------------|\n",
      " H | 0.9366 0.4605 |\n",
      " F | 0.0634 0.5395 |\n",
      "---|---------------|\n"
     ]
    }
   ],
   "source": [
    "p = 0.005*0.52/(0.08*0.48+0.005*0.52)\n",
    "print('P(g=f/D=1)=',p)\n",
    "\n",
    "# on verifie les \n",
    "\n",
    "# definition des variables\n",
    "genre = gum.LabelizedVariable(\"G\",\"genre\",0).addLabel(\"H\").addLabel(\"F\")\n",
    "dalton = gum.LabelizedVariable(\"D\",\"daltonisme\",0).addLabel(\"O\").addLabel(\"N\")\n",
    "# definition dees probabilités\n",
    "pDsG = gum.Potential().add(dalton).add(genre).fillWith([0.08,0.92,0.005,0.995])\n",
    "pG = gum.Potential().add(genre).fillWith([0.48,0.52])\n",
    "pGetD = pDsG*pG\n",
    "print(pretty_cpt(pDsG))\n",
    "print(pretty_cpt(pG))\n",
    "print(pretty_cpt(pGetD))\n",
    "\n",
    "# on va marginaliser et sommer :\n",
    "pD = pGetD.margSumOut([\"G\"]) # en paramètre, on met la liste des variables a marginaliser\n",
    "print(pretty_cpt(pD))\n",
    "\n",
    "# proba a posteriori\n",
    "pGsD = pDsG*pG/pD\n",
    "print(pretty_cpt(pGsD))"
   ]
  },
  {
   "cell_type": "markdown",
   "metadata": {
    "collapsed": false
   },
   "source": [
    "## Question 2\n",
    "\n",
    "Construire le réseau bayésien qui représente ce problème et vérifier cette valeur par propagation."
   ]
  },
  {
   "cell_type": "code",
   "execution_count": 42,
   "metadata": {
    "collapsed": false
   },
   "outputs": [
    {
     "data": {
      "text/html": [
       "<div align='center'><svg height=\"116pt\" viewBox=\"0.00 0.00 62.00 116.00\" width=\"62pt\" xmlns=\"http://www.w3.org/2000/svg\" xmlns:xlink=\"http://www.w3.org/1999/xlink\">\n",
       "<g class=\"graph\" id=\"graph0\" transform=\"scale(1 1) rotate(0) translate(4 112)\">\n",
       "<title>G</title>\n",
       "<polygon fill=\"white\" points=\"-4,4 -4,-112 58,-112 58,4 -4,4\" stroke=\"none\"/>\n",
       "<!-- G -->\n",
       "<g class=\"node\" id=\"node1\"><title>G</title>\n",
       "<g id=\"a_node1\"><a xlink:title=\"(0) G\">\n",
       "<ellipse cx=\"27\" cy=\"-90\" fill=\"#444444\" rx=\"27\" ry=\"18\" stroke=\"black\"/>\n",
       "<text fill=\"#ffffff\" font-family=\"Times,serif\" font-size=\"14.00\" text-anchor=\"middle\" x=\"27\" y=\"-86.3\">G</text>\n",
       "</a>\n",
       "</g>\n",
       "</g>\n",
       "<!-- D -->\n",
       "<g class=\"node\" id=\"node2\"><title>D</title>\n",
       "<g id=\"a_node2\"><a xlink:title=\"(1) D\">\n",
       "<ellipse cx=\"27\" cy=\"-18\" fill=\"#444444\" rx=\"27\" ry=\"18\" stroke=\"black\"/>\n",
       "<text fill=\"#ffffff\" font-family=\"Times,serif\" font-size=\"14.00\" text-anchor=\"middle\" x=\"27\" y=\"-14.3\">D</text>\n",
       "</a>\n",
       "</g>\n",
       "</g>\n",
       "<!-- G&#45;&gt;D -->\n",
       "<g class=\"edge\" id=\"edge1\"><title>G-&gt;D</title>\n",
       "<path d=\"M27,-71.6966C27,-63.9827 27,-54.7125 27,-46.1124\" fill=\"none\" stroke=\"black\"/>\n",
       "<polygon fill=\"black\" points=\"30.5001,-46.1043 27,-36.1043 23.5001,-46.1044 30.5001,-46.1043\" stroke=\"black\"/>\n",
       "</g>\n",
       "</g>\n",
       "</svg></div>"
      ],
      "text/plain": [
       "<IPython.core.display.HTML object>"
      ]
     },
     "metadata": {},
     "output_type": "display_data"
    },
    {
     "name": "stdout",
     "output_type": "stream",
     "text": [
      "inferences :\n"
     ]
    },
    {
     "data": {
      "image/png": "[encoded data removed]"
     },
     "metadata": {},
     "output_type": "display_data"
    },
    {
     "name": "stdout",
     "output_type": "stream",
     "text": [
      "inferences sachant D=1\n"
     ]
    },
    {
     "data": {
      "image/png": "[encoded data removed]"
     },
     "metadata": {},
     "output_type": "display_data"
    },
    {
     "name": "stdout",
     "output_type": "stream",
     "text": [
      "inferences du reseau renversé :\n"
     ]
    },
    {
     "data": {
      "image/png": "[encoded data removed]"
     },
     "metadata": {},
     "output_type": "display_data"
    }
   ],
   "source": [
    "# definition du réseau\n",
    "bn = gum.BayesNet()\n",
    "g = bn.add(genre)\n",
    "d = bn.add(dalton)\n",
    "bn.addArc(g,d)\n",
    "import pyAgrum.lib.notebook as nb\n",
    "nb.showBN(bn)\n",
    "# definition des tables de probabilités \n",
    "bn.cpt(g).fillWith([0.48,0.52])\n",
    "\n",
    "bn.cpt(d)[{\"G\": \"H\"}] = [0.08, 0.92]\n",
    "bn.cpt(d)[{\"G\": \"F\"}] = [0.005, 0.995]\n",
    "\n",
    "# calcul des probabilités\n",
    "print(\"inferences :\")\n",
    "gnb.showInference(bn)\n",
    "\n",
    "print(\"inferences sachant D=1 :\")\n",
    "gnb.showInference(bn,evs={\"D\":\"O\"}) # calculer l'inference sachant que je suis daltonien (D=O)\n",
    "# 'evs' à traduire par 'observation'\n",
    "\n",
    "# on aurait pu definir l'arc dans l'autre sens, et remplir les cpt avec les bonnes valeurs : on peut demander\n",
    "# à Agrum de retouner l'arc et de calculer les inferences :\n",
    "print(\"inferences du reseau renversé :\")\n",
    "bn.reverseArc(g,d)\n",
    "gnb.showInference(bn)\n",
    "\n"
   ]
  },
  {
   "cell_type": "code",
   "execution_count": null,
   "metadata": {
    "collapsed": true
   },
   "outputs": [],
   "source": []
  }
 ],
 "metadata": {
  "kernelspec": {
   "display_name": "Python 3",
   "language": "python",
   "name": "python3"
  },
  "language_info": {
   "codemirror_mode": {
    "name": "ipython",
    "version": 3
   },
   "file_extension": ".py",
   "mimetype": "text/x-python",
   "name": "python",
   "nbconvert_exporter": "python",
   "pygments_lexer": "ipython3",
   "version": "3.5.1"
  }
 },
 "nbformat": 4,
 "nbformat_minor": 0
}
