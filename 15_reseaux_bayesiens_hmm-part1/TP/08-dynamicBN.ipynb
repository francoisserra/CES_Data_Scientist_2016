{
 "cells": [
  {
   "cell_type": "code",
   "execution_count": null,
   "metadata": {
    "collapsed": true
   },
   "outputs": [],
   "source": [
    "import pyAgrum as gum\n",
    "import pyAgrum.lib.notebook as gnb\n",
    "import pyAgrum.lib.dynamicBN as gdyn\n",
    "\n",
    "from math import exp"
   ]
  },
  {
   "cell_type": "markdown",
   "metadata": {},
   "source": [
    "# Exercice 8\n",
    " \n",
    "On se propose d'étudier la fiabilité et la maintenance d'un système décrit ainsi : deux éléments en série, l'un et l'autre suivant des lois de Poisson de paramètres $\\lambda_a$ et $\\lambda_b$ tel que $\\lambda_a=2*\\lambda_b$.\n",
    "\n",
    "Proposer un modèle de réseau bayésien pour la fiabilité de ce système.\n",
    "\n",
    "Le suivre dans le temps et proposer une méthode de prise en compte de la maintenance du système dans le modèle probabiliste.\n",
    "\n"
   ]
  },
  {
   "cell_type": "code",
   "execution_count": null,
   "metadata": {
    "collapsed": false
   },
   "outputs": [],
   "source": []
  }
 ],
 "metadata": {
  "kernelspec": {
   "display_name": "Python 3",
   "language": "python",
   "name": "python3"
  },
  "language_info": {
   "codemirror_mode": {
    "name": "ipython",
    "version": 3
   },
   "file_extension": ".py",
   "mimetype": "text/x-python",
   "name": "python",
   "nbconvert_exporter": "python",
   "pygments_lexer": "ipython3",
   "version": "3.5.1"
  }
 },
 "nbformat": 4,
 "nbformat_minor": 0
}
