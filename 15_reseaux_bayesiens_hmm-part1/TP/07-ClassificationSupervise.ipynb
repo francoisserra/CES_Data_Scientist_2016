{
 "cells": [
  {
   "cell_type": "code",
   "execution_count": null,
   "metadata": {
    "collapsed": true
   },
   "outputs": [],
   "source": [
    "import pyAgrum as gum\n",
    "import pyAgrum.lib.notebook as gnb\n",
    "from pyAgrum.lib.pretty_print import pretty_cpt\n",
    "\n",
    "from IPython.display import display, Math, Latex\n",
    "\n",
    "import pandas\n",
    "import numpy as np"
   ]
  },
  {
   "cell_type": "markdown",
   "metadata": {},
   "source": [
    "# Exercice 7\n",
    "> From Roland Donnat\n",
    "\n",
    "L'objectif de cet exercice est d'utiliser un RB afin de prédire le résultat de matchs de football de Ligue 1 (division 1 de football en France) à partir de certaines statistiques de jeu.\n",
    "\n",
    "Deux jeux de données vont être utilisés :\n",
    "\n",
    "+ Un jeu de données d'apprentissage permettant de calibrer le modèle prédictif contanant l'historique des matchs des saisons 2005-2006 à 2009-2010 - Fichier fra_l1_app.csv\n",
    "+ Un jeu de données de test permettant d'évaluer le modèle contanant les matchs des saisons 2010-2011 et 2011-201 - Fichier fra_l1_test.csv\n",
    "\n"
   ]
  },
  {
   "cell_type": "markdown",
   "metadata": {},
   "source": [
    "### Prétraitement des données\n",
    "\n",
    "Pour un apprentissage \"facile\", nous allons :\n",
    "+ transformer toutes les données en entier ou chaîne, \n",
    "+ s'assurer que la base de tests ne possèdent pas de valeurs inconnues pour la base d'apprentissage\n",
    "+ sélectionner les variables \"HomeTeam\",\"AwayTeam\",\"HST\",\"AST\" qui nous serviront à tenter de prédire \"FTR\" \n",
    "+ créer les fichiers \"learn.csv\" et \"test.csv\" épurés."
   ]
  },
  {
   "cell_type": "code",
   "execution_count": null,
   "metadata": {
    "collapsed": false
   },
   "outputs": [],
   "source": []
  },
  {
   "cell_type": "markdown",
   "metadata": {},
   "source": [
    "### Prétraitement\n",
    "\n",
    "L'apprentissage avec pyAgrum fonctionne sur des csv totalement prétraités (des entiers). Il s'agit donc de préparer la base en ce sens."
   ]
  },
  {
   "cell_type": "code",
   "execution_count": null,
   "metadata": {
    "collapsed": false
   },
   "outputs": [],
   "source": []
  },
  {
   "cell_type": "markdown",
   "metadata": {},
   "source": [
    "Dans un second temps, nous décidons de nous limiter aux variables sivantes :\n",
    "+ features : \"HomeTeamNum\",\"AwayTeamNum\",\"HST\",\"AST\"\n",
    "+ classe : \"FTRNum\""
   ]
  },
  {
   "cell_type": "code",
   "execution_count": null,
   "metadata": {
    "collapsed": true
   },
   "outputs": [],
   "source": []
  },
  {
   "cell_type": "markdown",
   "metadata": {},
   "source": [
    "## Modèle \"Naive Bayes\"\n",
    "Nous essayons tout d'abord un modèle \"Naïve Bayes\" qui est connu pour ne pas être correct du tout théoriquement mais, finalement, pour assez bien fonctionner. Le principe du modèle est de supposer une structure du modèle où la variable à expliquer (la classe) est l'unique parents des variables explicantes (les features)."
   ]
  },
  {
   "cell_type": "code",
   "execution_count": null,
   "metadata": {
    "collapsed": false
   },
   "outputs": [],
   "source": []
  },
  {
   "cell_type": "markdown",
   "metadata": {},
   "source": [
    "## Apprentissage \n",
    "\n",
    "Un apprentissage de structure peut-il donner mieux pour notre problème ?"
   ]
  },
  {
   "cell_type": "code",
   "execution_count": null,
   "metadata": {
    "collapsed": false
   },
   "outputs": [],
   "source": []
  }
 ],
 "metadata": {
  "kernelspec": {
   "display_name": "Python 3",
   "language": "python",
   "name": "python3"
  },
  "language_info": {
   "codemirror_mode": {
    "name": "ipython",
    "version": 3
   },
   "file_extension": ".py",
   "mimetype": "text/x-python",
   "name": "python",
   "nbconvert_exporter": "python",
   "pygments_lexer": "ipython3",
   "version": "3.5.1"
  }
 },
 "nbformat": 4,
 "nbformat_minor": 0
}
